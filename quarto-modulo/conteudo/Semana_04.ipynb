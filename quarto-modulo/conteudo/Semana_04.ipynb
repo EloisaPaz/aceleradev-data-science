{
 "cells": [
  {
   "cell_type": "markdown",
   "metadata": {},
   "source": [
    "![Logo AceleraDev](https://github.com/codenation-dev/Data-Science-Online/blob/master/Semana%202/logo.png?raw=true)"
   ]
  },
  {
   "cell_type": "markdown",
   "metadata": {},
   "source": [
    "# AceleraDev Data Science - Semana 4\n",
    "\n",
    "# Análise de dados exploratória\n",
    "\n",
    "____\n",
    "\n",
    "## População\n",
    "\n",
    "População se refere a todo os membros de um grupo.\n",
    "\n",
    "## Amostra\n",
    "\n",
    "Amostra se refere a um pequeno grupo de mebros de uma população.\n",
    "\n",
    "## Amostragem\n",
    "\n",
    "Amostragem é o processo de obtenção de amostras que são uma pequena parte de uma população. \n",
    "\n",
    "> É necessário ter grande atenção ao método de amostragem utilizado para garantir que a amostra retirada da população é capaz de caracterizar essa população da forma correta. \n",
    "\n",
    "## Problemas mais comuns em amostragem \n",
    "\n",
    "### Undercoverage Bias\n",
    "\n",
    "Acontece ao analisar poucas observações ou omitir segmentos inteiros de uma população. Por exemplo, conduzir uma pesquisa de satisfação de funcionários de um hospital somente durante o dia, deixando assim os funcionários do turno da noite de fora.\n",
    "\n",
    "### Self-selection Bias\n",
    "\n",
    "Acontece quando as pessoas que voluntariaram-se para a análise diferem muito da real população do estudo. Por exemplo, fazer uma pesquisa online sobre um time de futebol, somente pessoas que provavelmente já torcem para o time vão responder a pesquisa, trazendo assim um viés ao resultado. \n",
    "\n",
    "### Health-users Bias\n",
    "\n",
    "Acontece quando retiramos uma amostra somente da parte mais sadia da população. Por exemplo, realizar uma pesquisa sobre hábitos saudáveis em uma academia, pessoas que frequentam academia provavelmente tem hábitos mais saudáveis que a maioria da população. \n",
    "\n",
    "### Sourvivor Bias\n",
    "\n",
    "Consiste no erro lógico de nos concentrarmos em coisas ou pessoas que sobreviveram a algum processo enquanto ignoramos aqueles que foram eliminados devida a sua falta de visibilidade.\n",
    "\n",
    "## Tipos de amostragem\n",
    "\n",
    "### Amostragem aleatória\n",
    "\n",
    "Consiste na técnica de retirar elementos aleatórios de uma população.\n",
    "\n",
    "### Amostragem não aleatória\n",
    "\n",
    "Consiste na técnica de selecionar elementos dentro de uma população.\n",
    "\n",
    "### Amostragem estratificada\n",
    "\n",
    "Costuma ser a mais utilizada em data science, pode ser dividida em:\n",
    "\n",
    "- Amostragem estratificada proporcional: a amostra deve obter seus dados mantendo as mesmas proporções observadas na população.\n",
    "- Amostragem estratificada uniforme: a amostra deve obter seus dados de forma distribuida uniformemente entre as camadas, independente das proporções observadas na população.\n",
    "\n",
    "### Para escolher de forma correta um tipo de amostragem e aplicar, é necessário identificar: \n",
    "\n",
    "- Qual a população relevante?\n",
    "- Qual a população afetada? \n",
    "- Qual a subdivisão dessa população?\n",
    "- Qual o tamanho de cada sub divisão?\n",
    "- Todas as subdivisões são afetadas?\n",
    "\n",
    "### Artigos recomendados:\n",
    "\n",
    "- [Amostragem probabilística: Amostra estratificada](https://www.netquest.com/blog/br/blog/br/amostragem-probabilistica-amostra-estratificada)\n",
    "- [Amostragem: O que é e por quê funciona](https://www.netquest.com/blog/br/blog/br/amostragem-porque-funciona)\n",
    "- [Calculadora de tamanho de amostra](https://pt.surveymonkey.com/mp/sample-size-calculator/)\n",
    "- [Calcule sua margem de erro](https://pt.surveymonkey.com/mp/margin-of-error-calculator/?ut_source=mp&ut_source2=sample_size_calculator)\n",
    "___"
   ]
  },
  {
   "cell_type": "markdown",
   "metadata": {},
   "source": [
    "## Revisão de probabilidades\n",
    "\n",
    "Probabilidades variam entre 0 e 1, sendo 0 a representação do cenário mais improvável, e 1 a representação do cénario mais provável. A representação de valores de probabilidade em porcentagem é a multiplicação entre esses dois valores. O total de probabilidades sempre vai somar 1. A distribuição de $x$ vai estar sempre relacionada com a probabilidade $p(x)$. É possivel trabalhar com funções discretas ou contínuas.\n",
    "\n",
    "Exemplo de uma função discreta:\n",
    "- Qual a probabilidade de obter cara jogando uma moeda (justa) para cima?\n",
    "\n",
    "Exemplo de uma função contínua:\n",
    "- Qual a probabilidade de uma pessoa tirar nota acima da média no Enem?\n",
    "\n",
    "___"
   ]
  },
  {
   "cell_type": "code",
   "execution_count": null,
   "metadata": {},
   "outputs": [],
   "source": []
  }
 ],
 "metadata": {
  "kernelspec": {
   "display_name": "Python 3.7.6 64-bit ('base': conda)",
   "language": "python",
   "name": "python37664bitbaseconda6dbb2a3de9464c8784f7f2a7cf8e7045"
  },
  "language_info": {
   "codemirror_mode": {
    "name": "ipython",
    "version": 3
   },
   "file_extension": ".py",
   "mimetype": "text/x-python",
   "name": "python",
   "nbconvert_exporter": "python",
   "pygments_lexer": "ipython3",
   "version": "3.7.6"
  }
 },
 "nbformat": 4,
 "nbformat_minor": 4
}
