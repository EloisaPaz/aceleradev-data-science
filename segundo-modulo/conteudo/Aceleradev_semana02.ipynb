{
 "cells": [
  {
   "cell_type": "markdown",
   "metadata": {},
   "source": [
    "![Logo AceleraDev](https://github.com/codenation-dev/Data-Science-Online/blob/master/Semana%202/logo.png?raw=true)"
   ]
  },
  {
   "cell_type": "markdown",
   "metadata": {},
   "source": [
    "# AceleraDev Data Science - Semana 2\n",
    "\n",
    "## Eloisa Paz - Software Developer | Data Scientist Student\n",
    "\n",
    "### Manipulando dados"
   ]
  },
  {
   "cell_type": "markdown",
   "metadata": {},
   "source": [
    "- Importando os pacotes"
   ]
  },
  {
   "cell_type": "code",
   "execution_count": 4,
   "metadata": {
    "scrolled": true
   },
   "outputs": [],
   "source": [
    "import pandas as pd\n",
    "import numpy as np"
   ]
  },
  {
   "cell_type": "markdown",
   "metadata": {},
   "source": [
    "- Acessando o help dos pacotes"
   ]
  },
  {
   "cell_type": "code",
   "execution_count": 5,
   "metadata": {},
   "outputs": [],
   "source": [
    "pd?"
   ]
  },
  {
   "cell_type": "markdown",
   "metadata": {},
   "source": [
    "#### Dicionários"
   ]
  },
  {
   "cell_type": "markdown",
   "metadata": {},
   "source": [
    "- Criando um dicionário com os dados"
   ]
  },
  {
   "cell_type": "code",
   "execution_count": 6,
   "metadata": {},
   "outputs": [],
   "source": [
    "dados = {'canal_venda' : ['facebook', 'twitter', 'instagram', 'linkedin', 'facebook'],\n",
    "        'acessos': [100, 200, 300 ,400, 500],\n",
    "        'site': ['site1', 'site1', 'site2', 'site2', 'site3'],\n",
    "        'vendas': [1000.52, 1052.34, 2002, 5000, 300 ]}"
   ]
  },
  {
   "cell_type": "markdown",
   "metadata": {},
   "source": [
    "- Para printar o dicionáario"
   ]
  },
  {
   "cell_type": "code",
   "execution_count": 7,
   "metadata": {},
   "outputs": [
    {
     "data": {
      "text/plain": [
       "{'canal_venda': ['facebook', 'twitter', 'instagram', 'linkedin', 'facebook'],\n",
       " 'acessos': [100, 200, 300, 400, 500],\n",
       " 'site': ['site1', 'site1', 'site2', 'site2', 'site3'],\n",
       " 'vendas': [1000.52, 1052.34, 2002, 5000, 300]}"
      ]
     },
     "execution_count": 7,
     "metadata": {},
     "output_type": "execute_result"
    }
   ],
   "source": [
    "dados"
   ]
  },
  {
   "cell_type": "markdown",
   "metadata": {},
   "source": [
    "- Verificando o tipo do dicionário"
   ]
  },
  {
   "cell_type": "code",
   "execution_count": 8,
   "metadata": {},
   "outputs": [
    {
     "data": {
      "text/plain": [
       "dict"
      ]
     },
     "execution_count": 8,
     "metadata": {},
     "output_type": "execute_result"
    }
   ],
   "source": [
    "type(dados)"
   ]
  },
  {
   "cell_type": "markdown",
   "metadata": {},
   "source": [
    "- Acessando as chaves do meu dicionário"
   ]
  },
  {
   "cell_type": "code",
   "execution_count": 9,
   "metadata": {},
   "outputs": [
    {
     "data": {
      "text/plain": [
       "dict_keys(['canal_venda', 'acessos', 'site', 'vendas'])"
      ]
     },
     "execution_count": 9,
     "metadata": {},
     "output_type": "execute_result"
    }
   ],
   "source": [
    "dados.keys()"
   ]
  },
  {
   "cell_type": "markdown",
   "metadata": {},
   "source": [
    "- Acessando uma chave específica"
   ]
  },
  {
   "cell_type": "code",
   "execution_count": 10,
   "metadata": {},
   "outputs": [
    {
     "data": {
      "text/plain": [
       "['site1', 'site1', 'site2', 'site2', 'site3']"
      ]
     },
     "execution_count": 10,
     "metadata": {},
     "output_type": "execute_result"
    }
   ],
   "source": [
    "dados['site']"
   ]
  },
  {
   "cell_type": "markdown",
   "metadata": {},
   "source": [
    "- Acessando uma posição específica de um dicionário"
   ]
  },
  {
   "cell_type": "code",
   "execution_count": 11,
   "metadata": {},
   "outputs": [
    {
     "data": {
      "text/plain": [
       "300"
      ]
     },
     "execution_count": 11,
     "metadata": {},
     "output_type": "execute_result"
    }
   ],
   "source": [
    "dados['acessos'][2]"
   ]
  },
  {
   "cell_type": "code",
   "execution_count": 12,
   "metadata": {},
   "outputs": [
    {
     "data": {
      "text/plain": [
       "'instagram'"
      ]
     },
     "execution_count": 12,
     "metadata": {},
     "output_type": "execute_result"
    }
   ],
   "source": [
    "dados['canal_venda'][2]"
   ]
  },
  {
   "cell_type": "code",
   "execution_count": 13,
   "metadata": {},
   "outputs": [
    {
     "data": {
      "text/plain": [
       "['facebook', 'twitter', 'instagram']"
      ]
     },
     "execution_count": 13,
     "metadata": {},
     "output_type": "execute_result"
    }
   ],
   "source": [
    "dados['canal_venda'][:3]"
   ]
  },
  {
   "cell_type": "markdown",
   "metadata": {},
   "source": [
    "#### Listas"
   ]
  },
  {
   "cell_type": "code",
   "execution_count": 14,
   "metadata": {},
   "outputs": [
    {
     "data": {
      "text/plain": [
       "list"
      ]
     },
     "execution_count": 14,
     "metadata": {},
     "output_type": "execute_result"
    }
   ],
   "source": [
    "type([1,2,3])"
   ]
  },
  {
   "cell_type": "markdown",
   "metadata": {},
   "source": [
    "- Criando uma lista"
   ]
  },
  {
   "cell_type": "code",
   "execution_count": 15,
   "metadata": {},
   "outputs": [],
   "source": [
    "lista = [200, 200 , 300 ,800, 200]"
   ]
  },
  {
   "cell_type": "markdown",
   "metadata": {},
   "source": [
    "- Printando a lista"
   ]
  },
  {
   "cell_type": "code",
   "execution_count": 16,
   "metadata": {},
   "outputs": [
    {
     "data": {
      "text/plain": [
       "[200, 200, 300, 800, 200]"
      ]
     },
     "execution_count": 16,
     "metadata": {},
     "output_type": "execute_result"
    }
   ],
   "source": [
    "lista"
   ]
  },
  {
   "cell_type": "markdown",
   "metadata": {},
   "source": [
    "- Vendo valores específicos"
   ]
  },
  {
   "cell_type": "code",
   "execution_count": 17,
   "metadata": {},
   "outputs": [
    {
     "data": {
      "text/plain": [
       "200"
      ]
     },
     "execution_count": 17,
     "metadata": {},
     "output_type": "execute_result"
    }
   ],
   "source": [
    "lista[1]"
   ]
  },
  {
   "cell_type": "markdown",
   "metadata": {},
   "source": [
    "- Fatia da lista"
   ]
  },
  {
   "cell_type": "code",
   "execution_count": 18,
   "metadata": {},
   "outputs": [
    {
     "data": {
      "text/plain": [
       "[200, 200, 300]"
      ]
     },
     "execution_count": 18,
     "metadata": {},
     "output_type": "execute_result"
    }
   ],
   "source": [
    "lista[:3]"
   ]
  },
  {
   "cell_type": "markdown",
   "metadata": {},
   "source": [
    "- Adicionando a lista ao dicionário "
   ]
  },
  {
   "cell_type": "code",
   "execution_count": 19,
   "metadata": {},
   "outputs": [],
   "source": [
    "dados['lista'] = lista"
   ]
  },
  {
   "cell_type": "code",
   "execution_count": 20,
   "metadata": {},
   "outputs": [
    {
     "data": {
      "text/plain": [
       "{'canal_venda': ['facebook', 'twitter', 'instagram', 'linkedin', 'facebook'],\n",
       " 'acessos': [100, 200, 300, 400, 500],\n",
       " 'site': ['site1', 'site1', 'site2', 'site2', 'site3'],\n",
       " 'vendas': [1000.52, 1052.34, 2002, 5000, 300],\n",
       " 'lista': [200, 200, 300, 800, 200]}"
      ]
     },
     "execution_count": 20,
     "metadata": {},
     "output_type": "execute_result"
    }
   ],
   "source": [
    "dados"
   ]
  },
  {
   "cell_type": "markdown",
   "metadata": {},
   "source": [
    "#### DataFrames"
   ]
  },
  {
   "cell_type": "markdown",
   "metadata": {},
   "source": [
    "- Criar um data frame a partir de um dicionário"
   ]
  },
  {
   "cell_type": "code",
   "execution_count": 21,
   "metadata": {},
   "outputs": [],
   "source": [
    "dataframe = pd.DataFrame(dados)"
   ]
  },
  {
   "cell_type": "markdown",
   "metadata": {},
   "source": [
    "- Acessando o dataframe"
   ]
  },
  {
   "cell_type": "code",
   "execution_count": 22,
   "metadata": {},
   "outputs": [
    {
     "data": {
      "text/html": [
       "<div>\n",
       "<style scoped>\n",
       "    .dataframe tbody tr th:only-of-type {\n",
       "        vertical-align: middle;\n",
       "    }\n",
       "\n",
       "    .dataframe tbody tr th {\n",
       "        vertical-align: top;\n",
       "    }\n",
       "\n",
       "    .dataframe thead th {\n",
       "        text-align: right;\n",
       "    }\n",
       "</style>\n",
       "<table border=\"1\" class=\"dataframe\">\n",
       "  <thead>\n",
       "    <tr style=\"text-align: right;\">\n",
       "      <th></th>\n",
       "      <th>canal_venda</th>\n",
       "      <th>acessos</th>\n",
       "      <th>site</th>\n",
       "      <th>vendas</th>\n",
       "      <th>lista</th>\n",
       "    </tr>\n",
       "  </thead>\n",
       "  <tbody>\n",
       "    <tr>\n",
       "      <th>0</th>\n",
       "      <td>facebook</td>\n",
       "      <td>100</td>\n",
       "      <td>site1</td>\n",
       "      <td>1000.52</td>\n",
       "      <td>200</td>\n",
       "    </tr>\n",
       "    <tr>\n",
       "      <th>1</th>\n",
       "      <td>twitter</td>\n",
       "      <td>200</td>\n",
       "      <td>site1</td>\n",
       "      <td>1052.34</td>\n",
       "      <td>200</td>\n",
       "    </tr>\n",
       "    <tr>\n",
       "      <th>2</th>\n",
       "      <td>instagram</td>\n",
       "      <td>300</td>\n",
       "      <td>site2</td>\n",
       "      <td>2002.00</td>\n",
       "      <td>300</td>\n",
       "    </tr>\n",
       "    <tr>\n",
       "      <th>3</th>\n",
       "      <td>linkedin</td>\n",
       "      <td>400</td>\n",
       "      <td>site2</td>\n",
       "      <td>5000.00</td>\n",
       "      <td>800</td>\n",
       "    </tr>\n",
       "    <tr>\n",
       "      <th>4</th>\n",
       "      <td>facebook</td>\n",
       "      <td>500</td>\n",
       "      <td>site3</td>\n",
       "      <td>300.00</td>\n",
       "      <td>200</td>\n",
       "    </tr>\n",
       "  </tbody>\n",
       "</table>\n",
       "</div>"
      ],
      "text/plain": [
       "  canal_venda  acessos   site   vendas  lista\n",
       "0    facebook      100  site1  1000.52    200\n",
       "1     twitter      200  site1  1052.34    200\n",
       "2   instagram      300  site2  2002.00    300\n",
       "3    linkedin      400  site2  5000.00    800\n",
       "4    facebook      500  site3   300.00    200"
      ]
     },
     "execution_count": 22,
     "metadata": {},
     "output_type": "execute_result"
    }
   ],
   "source": [
    "dataframe"
   ]
  },
  {
   "cell_type": "markdown",
   "metadata": {},
   "source": [
    "- Printando os primeiros casos do dataframe"
   ]
  },
  {
   "cell_type": "code",
   "execution_count": 23,
   "metadata": {},
   "outputs": [
    {
     "data": {
      "text/html": [
       "<div>\n",
       "<style scoped>\n",
       "    .dataframe tbody tr th:only-of-type {\n",
       "        vertical-align: middle;\n",
       "    }\n",
       "\n",
       "    .dataframe tbody tr th {\n",
       "        vertical-align: top;\n",
       "    }\n",
       "\n",
       "    .dataframe thead th {\n",
       "        text-align: right;\n",
       "    }\n",
       "</style>\n",
       "<table border=\"1\" class=\"dataframe\">\n",
       "  <thead>\n",
       "    <tr style=\"text-align: right;\">\n",
       "      <th></th>\n",
       "      <th>canal_venda</th>\n",
       "      <th>acessos</th>\n",
       "      <th>site</th>\n",
       "      <th>vendas</th>\n",
       "      <th>lista</th>\n",
       "    </tr>\n",
       "  </thead>\n",
       "  <tbody>\n",
       "    <tr>\n",
       "      <th>0</th>\n",
       "      <td>facebook</td>\n",
       "      <td>100</td>\n",
       "      <td>site1</td>\n",
       "      <td>1000.52</td>\n",
       "      <td>200</td>\n",
       "    </tr>\n",
       "    <tr>\n",
       "      <th>1</th>\n",
       "      <td>twitter</td>\n",
       "      <td>200</td>\n",
       "      <td>site1</td>\n",
       "      <td>1052.34</td>\n",
       "      <td>200</td>\n",
       "    </tr>\n",
       "  </tbody>\n",
       "</table>\n",
       "</div>"
      ],
      "text/plain": [
       "  canal_venda  acessos   site   vendas  lista\n",
       "0    facebook      100  site1  1000.52    200\n",
       "1     twitter      200  site1  1052.34    200"
      ]
     },
     "execution_count": 23,
     "metadata": {},
     "output_type": "execute_result"
    }
   ],
   "source": [
    "dataframe.head(2)"
   ]
  },
  {
   "cell_type": "markdown",
   "metadata": {},
   "source": [
    "- Verificando o formato do dataframe"
   ]
  },
  {
   "cell_type": "code",
   "execution_count": 24,
   "metadata": {},
   "outputs": [
    {
     "data": {
      "text/plain": [
       "(5, 5)"
      ]
     },
     "execution_count": 24,
     "metadata": {},
     "output_type": "execute_result"
    }
   ],
   "source": [
    "dataframe.shape"
   ]
  },
  {
   "cell_type": "markdown",
   "metadata": {},
   "source": [
    "- Verificando o índice do dataframe"
   ]
  },
  {
   "cell_type": "code",
   "execution_count": 25,
   "metadata": {},
   "outputs": [
    {
     "data": {
      "text/plain": [
       "RangeIndex(start=0, stop=5, step=1)"
      ]
     },
     "execution_count": 25,
     "metadata": {},
     "output_type": "execute_result"
    }
   ],
   "source": [
    "dataframe.index"
   ]
  },
  {
   "cell_type": "markdown",
   "metadata": {},
   "source": [
    "- Verificando os tipos dos dados do dataframe"
   ]
  },
  {
   "cell_type": "code",
   "execution_count": 26,
   "metadata": {},
   "outputs": [
    {
     "data": {
      "text/plain": [
       "canal_venda     object\n",
       "acessos          int64\n",
       "site            object\n",
       "vendas         float64\n",
       "lista            int64\n",
       "dtype: object"
      ]
     },
     "execution_count": 26,
     "metadata": {},
     "output_type": "execute_result"
    }
   ],
   "source": [
    "dataframe.dtypes"
   ]
  },
  {
   "cell_type": "markdown",
   "metadata": {},
   "source": [
    "- Verificando se existem valores faltantes"
   ]
  },
  {
   "cell_type": "code",
   "execution_count": 27,
   "metadata": {},
   "outputs": [
    {
     "data": {
      "text/html": [
       "<div>\n",
       "<style scoped>\n",
       "    .dataframe tbody tr th:only-of-type {\n",
       "        vertical-align: middle;\n",
       "    }\n",
       "\n",
       "    .dataframe tbody tr th {\n",
       "        vertical-align: top;\n",
       "    }\n",
       "\n",
       "    .dataframe thead th {\n",
       "        text-align: right;\n",
       "    }\n",
       "</style>\n",
       "<table border=\"1\" class=\"dataframe\">\n",
       "  <thead>\n",
       "    <tr style=\"text-align: right;\">\n",
       "      <th></th>\n",
       "      <th>canal_venda</th>\n",
       "      <th>acessos</th>\n",
       "      <th>site</th>\n",
       "      <th>vendas</th>\n",
       "      <th>lista</th>\n",
       "    </tr>\n",
       "  </thead>\n",
       "  <tbody>\n",
       "    <tr>\n",
       "      <th>0</th>\n",
       "      <td>False</td>\n",
       "      <td>False</td>\n",
       "      <td>False</td>\n",
       "      <td>False</td>\n",
       "      <td>False</td>\n",
       "    </tr>\n",
       "    <tr>\n",
       "      <th>1</th>\n",
       "      <td>False</td>\n",
       "      <td>False</td>\n",
       "      <td>False</td>\n",
       "      <td>False</td>\n",
       "      <td>False</td>\n",
       "    </tr>\n",
       "    <tr>\n",
       "      <th>2</th>\n",
       "      <td>False</td>\n",
       "      <td>False</td>\n",
       "      <td>False</td>\n",
       "      <td>False</td>\n",
       "      <td>False</td>\n",
       "    </tr>\n",
       "    <tr>\n",
       "      <th>3</th>\n",
       "      <td>False</td>\n",
       "      <td>False</td>\n",
       "      <td>False</td>\n",
       "      <td>False</td>\n",
       "      <td>False</td>\n",
       "    </tr>\n",
       "    <tr>\n",
       "      <th>4</th>\n",
       "      <td>False</td>\n",
       "      <td>False</td>\n",
       "      <td>False</td>\n",
       "      <td>False</td>\n",
       "      <td>False</td>\n",
       "    </tr>\n",
       "  </tbody>\n",
       "</table>\n",
       "</div>"
      ],
      "text/plain": [
       "   canal_venda  acessos   site  vendas  lista\n",
       "0        False    False  False   False  False\n",
       "1        False    False  False   False  False\n",
       "2        False    False  False   False  False\n",
       "3        False    False  False   False  False\n",
       "4        False    False  False   False  False"
      ]
     },
     "execution_count": 27,
     "metadata": {},
     "output_type": "execute_result"
    }
   ],
   "source": [
    "dataframe.isna()"
   ]
  },
  {
   "cell_type": "markdown",
   "metadata": {},
   "source": [
    "- Somando número de casos faltantes"
   ]
  },
  {
   "cell_type": "code",
   "execution_count": 28,
   "metadata": {},
   "outputs": [
    {
     "data": {
      "text/plain": [
       "canal_venda    0\n",
       "acessos        0\n",
       "site           0\n",
       "vendas         0\n",
       "lista          0\n",
       "dtype: int64"
      ]
     },
     "execution_count": 28,
     "metadata": {},
     "output_type": "execute_result"
    }
   ],
   "source": [
    "dataframe.isna().sum()"
   ]
  },
  {
   "cell_type": "markdown",
   "metadata": {},
   "source": [
    "- Printando os nomes das colunas"
   ]
  },
  {
   "cell_type": "code",
   "execution_count": 29,
   "metadata": {},
   "outputs": [
    {
     "data": {
      "text/plain": [
       "Index(['canal_venda', 'acessos', 'site', 'vendas', 'lista'], dtype='object')"
      ]
     },
     "execution_count": 29,
     "metadata": {},
     "output_type": "execute_result"
    }
   ],
   "source": [
    "dataframe.columns"
   ]
  },
  {
   "cell_type": "markdown",
   "metadata": {},
   "source": [
    "- Acessando uma coluna específica"
   ]
  },
  {
   "cell_type": "code",
   "execution_count": 30,
   "metadata": {},
   "outputs": [
    {
     "data": {
      "text/plain": [
       "0     facebook\n",
       "1      twitter\n",
       "2    instagram\n",
       "3     linkedin\n",
       "4     facebook\n",
       "Name: canal_venda, dtype: object"
      ]
     },
     "execution_count": 30,
     "metadata": {},
     "output_type": "execute_result"
    }
   ],
   "source": [
    "dataframe['canal_venda']"
   ]
  },
  {
   "cell_type": "markdown",
   "metadata": {},
   "source": [
    "- Criando uma nova coluna"
   ]
  },
  {
   "cell_type": "code",
   "execution_count": 31,
   "metadata": {},
   "outputs": [],
   "source": [
    "dataframe['nova_coluna'] = [1, 2, 3, 4, 5]"
   ]
  },
  {
   "cell_type": "code",
   "execution_count": 32,
   "metadata": {},
   "outputs": [
    {
     "data": {
      "text/html": [
       "<div>\n",
       "<style scoped>\n",
       "    .dataframe tbody tr th:only-of-type {\n",
       "        vertical-align: middle;\n",
       "    }\n",
       "\n",
       "    .dataframe tbody tr th {\n",
       "        vertical-align: top;\n",
       "    }\n",
       "\n",
       "    .dataframe thead th {\n",
       "        text-align: right;\n",
       "    }\n",
       "</style>\n",
       "<table border=\"1\" class=\"dataframe\">\n",
       "  <thead>\n",
       "    <tr style=\"text-align: right;\">\n",
       "      <th></th>\n",
       "      <th>canal_venda</th>\n",
       "      <th>acessos</th>\n",
       "      <th>site</th>\n",
       "      <th>vendas</th>\n",
       "      <th>lista</th>\n",
       "      <th>nova_coluna</th>\n",
       "    </tr>\n",
       "  </thead>\n",
       "  <tbody>\n",
       "    <tr>\n",
       "      <th>0</th>\n",
       "      <td>facebook</td>\n",
       "      <td>100</td>\n",
       "      <td>site1</td>\n",
       "      <td>1000.52</td>\n",
       "      <td>200</td>\n",
       "      <td>1</td>\n",
       "    </tr>\n",
       "    <tr>\n",
       "      <th>1</th>\n",
       "      <td>twitter</td>\n",
       "      <td>200</td>\n",
       "      <td>site1</td>\n",
       "      <td>1052.34</td>\n",
       "      <td>200</td>\n",
       "      <td>2</td>\n",
       "    </tr>\n",
       "    <tr>\n",
       "      <th>2</th>\n",
       "      <td>instagram</td>\n",
       "      <td>300</td>\n",
       "      <td>site2</td>\n",
       "      <td>2002.00</td>\n",
       "      <td>300</td>\n",
       "      <td>3</td>\n",
       "    </tr>\n",
       "    <tr>\n",
       "      <th>3</th>\n",
       "      <td>linkedin</td>\n",
       "      <td>400</td>\n",
       "      <td>site2</td>\n",
       "      <td>5000.00</td>\n",
       "      <td>800</td>\n",
       "      <td>4</td>\n",
       "    </tr>\n",
       "    <tr>\n",
       "      <th>4</th>\n",
       "      <td>facebook</td>\n",
       "      <td>500</td>\n",
       "      <td>site3</td>\n",
       "      <td>300.00</td>\n",
       "      <td>200</td>\n",
       "      <td>5</td>\n",
       "    </tr>\n",
       "  </tbody>\n",
       "</table>\n",
       "</div>"
      ],
      "text/plain": [
       "  canal_venda  acessos   site   vendas  lista  nova_coluna\n",
       "0    facebook      100  site1  1000.52    200            1\n",
       "1     twitter      200  site1  1052.34    200            2\n",
       "2   instagram      300  site2  2002.00    300            3\n",
       "3    linkedin      400  site2  5000.00    800            4\n",
       "4    facebook      500  site3   300.00    200            5"
      ]
     },
     "execution_count": 32,
     "metadata": {},
     "output_type": "execute_result"
    }
   ],
   "source": [
    "dataframe"
   ]
  },
  {
   "cell_type": "code",
   "execution_count": 33,
   "metadata": {},
   "outputs": [
    {
     "data": {
      "text/plain": [
       "Index(['canal_venda', 'acessos', 'site', 'vendas', 'lista', 'nova_coluna'], dtype='object')"
      ]
     },
     "execution_count": 33,
     "metadata": {},
     "output_type": "execute_result"
    }
   ],
   "source": [
    "dataframe.columns"
   ]
  },
  {
   "cell_type": "markdown",
   "metadata": {},
   "source": [
    "- Removendo colunas"
   ]
  },
  {
   "cell_type": "markdown",
   "metadata": {},
   "source": [
    "Somente para visualização"
   ]
  },
  {
   "cell_type": "code",
   "execution_count": 34,
   "metadata": {},
   "outputs": [
    {
     "data": {
      "text/html": [
       "<div>\n",
       "<style scoped>\n",
       "    .dataframe tbody tr th:only-of-type {\n",
       "        vertical-align: middle;\n",
       "    }\n",
       "\n",
       "    .dataframe tbody tr th {\n",
       "        vertical-align: top;\n",
       "    }\n",
       "\n",
       "    .dataframe thead th {\n",
       "        text-align: right;\n",
       "    }\n",
       "</style>\n",
       "<table border=\"1\" class=\"dataframe\">\n",
       "  <thead>\n",
       "    <tr style=\"text-align: right;\">\n",
       "      <th></th>\n",
       "      <th>vendas</th>\n",
       "      <th>lista</th>\n",
       "      <th>nova_coluna</th>\n",
       "    </tr>\n",
       "  </thead>\n",
       "  <tbody>\n",
       "    <tr>\n",
       "      <th>0</th>\n",
       "      <td>1000.52</td>\n",
       "      <td>200</td>\n",
       "      <td>1</td>\n",
       "    </tr>\n",
       "    <tr>\n",
       "      <th>1</th>\n",
       "      <td>1052.34</td>\n",
       "      <td>200</td>\n",
       "      <td>2</td>\n",
       "    </tr>\n",
       "    <tr>\n",
       "      <th>2</th>\n",
       "      <td>2002.00</td>\n",
       "      <td>300</td>\n",
       "      <td>3</td>\n",
       "    </tr>\n",
       "    <tr>\n",
       "      <th>3</th>\n",
       "      <td>5000.00</td>\n",
       "      <td>800</td>\n",
       "      <td>4</td>\n",
       "    </tr>\n",
       "    <tr>\n",
       "      <th>4</th>\n",
       "      <td>300.00</td>\n",
       "      <td>200</td>\n",
       "      <td>5</td>\n",
       "    </tr>\n",
       "  </tbody>\n",
       "</table>\n",
       "</div>"
      ],
      "text/plain": [
       "    vendas  lista  nova_coluna\n",
       "0  1000.52    200            1\n",
       "1  1052.34    200            2\n",
       "2  2002.00    300            3\n",
       "3  5000.00    800            4\n",
       "4   300.00    200            5"
      ]
     },
     "execution_count": 34,
     "metadata": {},
     "output_type": "execute_result"
    }
   ],
   "source": [
    "dataframe.drop(columns = ['acessos','site', 'canal_venda'])"
   ]
  },
  {
   "cell_type": "code",
   "execution_count": 35,
   "metadata": {},
   "outputs": [
    {
     "data": {
      "text/html": [
       "<div>\n",
       "<style scoped>\n",
       "    .dataframe tbody tr th:only-of-type {\n",
       "        vertical-align: middle;\n",
       "    }\n",
       "\n",
       "    .dataframe tbody tr th {\n",
       "        vertical-align: top;\n",
       "    }\n",
       "\n",
       "    .dataframe thead th {\n",
       "        text-align: right;\n",
       "    }\n",
       "</style>\n",
       "<table border=\"1\" class=\"dataframe\">\n",
       "  <thead>\n",
       "    <tr style=\"text-align: right;\">\n",
       "      <th></th>\n",
       "      <th>canal_venda</th>\n",
       "      <th>acessos</th>\n",
       "      <th>site</th>\n",
       "      <th>vendas</th>\n",
       "      <th>lista</th>\n",
       "      <th>nova_coluna</th>\n",
       "    </tr>\n",
       "  </thead>\n",
       "  <tbody>\n",
       "    <tr>\n",
       "      <th>0</th>\n",
       "      <td>facebook</td>\n",
       "      <td>100</td>\n",
       "      <td>site1</td>\n",
       "      <td>1000.52</td>\n",
       "      <td>200</td>\n",
       "      <td>1</td>\n",
       "    </tr>\n",
       "    <tr>\n",
       "      <th>1</th>\n",
       "      <td>twitter</td>\n",
       "      <td>200</td>\n",
       "      <td>site1</td>\n",
       "      <td>1052.34</td>\n",
       "      <td>200</td>\n",
       "      <td>2</td>\n",
       "    </tr>\n",
       "    <tr>\n",
       "      <th>2</th>\n",
       "      <td>instagram</td>\n",
       "      <td>300</td>\n",
       "      <td>site2</td>\n",
       "      <td>2002.00</td>\n",
       "      <td>300</td>\n",
       "      <td>3</td>\n",
       "    </tr>\n",
       "    <tr>\n",
       "      <th>3</th>\n",
       "      <td>linkedin</td>\n",
       "      <td>400</td>\n",
       "      <td>site2</td>\n",
       "      <td>5000.00</td>\n",
       "      <td>800</td>\n",
       "      <td>4</td>\n",
       "    </tr>\n",
       "    <tr>\n",
       "      <th>4</th>\n",
       "      <td>facebook</td>\n",
       "      <td>500</td>\n",
       "      <td>site3</td>\n",
       "      <td>300.00</td>\n",
       "      <td>200</td>\n",
       "      <td>5</td>\n",
       "    </tr>\n",
       "  </tbody>\n",
       "</table>\n",
       "</div>"
      ],
      "text/plain": [
       "  canal_venda  acessos   site   vendas  lista  nova_coluna\n",
       "0    facebook      100  site1  1000.52    200            1\n",
       "1     twitter      200  site1  1052.34    200            2\n",
       "2   instagram      300  site2  2002.00    300            3\n",
       "3    linkedin      400  site2  5000.00    800            4\n",
       "4    facebook      500  site3   300.00    200            5"
      ]
     },
     "execution_count": 35,
     "metadata": {},
     "output_type": "execute_result"
    }
   ],
   "source": [
    "dataframe"
   ]
  },
  {
   "cell_type": "markdown",
   "metadata": {},
   "source": [
    "Removendo do dataframe"
   ]
  },
  {
   "cell_type": "code",
   "execution_count": 60,
   "metadata": {},
   "outputs": [],
   "source": [
    "dataframe.drop(columns = 'nova_coluna', inplace = True)"
   ]
  },
  {
   "cell_type": "code",
   "execution_count": 61,
   "metadata": {},
   "outputs": [
    {
     "data": {
      "text/html": [
       "<div>\n",
       "<style scoped>\n",
       "    .dataframe tbody tr th:only-of-type {\n",
       "        vertical-align: middle;\n",
       "    }\n",
       "\n",
       "    .dataframe tbody tr th {\n",
       "        vertical-align: top;\n",
       "    }\n",
       "\n",
       "    .dataframe thead th {\n",
       "        text-align: right;\n",
       "    }\n",
       "</style>\n",
       "<table border=\"1\" class=\"dataframe\">\n",
       "  <thead>\n",
       "    <tr style=\"text-align: right;\">\n",
       "      <th></th>\n",
       "      <th>canal_venda</th>\n",
       "      <th>acessos</th>\n",
       "      <th>site</th>\n",
       "      <th>vendas</th>\n",
       "      <th>lista</th>\n",
       "    </tr>\n",
       "  </thead>\n",
       "  <tbody>\n",
       "    <tr>\n",
       "      <th>0</th>\n",
       "      <td>facebook</td>\n",
       "      <td>100</td>\n",
       "      <td>site1</td>\n",
       "      <td>1000.52</td>\n",
       "      <td>200</td>\n",
       "    </tr>\n",
       "    <tr>\n",
       "      <th>1</th>\n",
       "      <td>twitter</td>\n",
       "      <td>200</td>\n",
       "      <td>site1</td>\n",
       "      <td>1052.34</td>\n",
       "      <td>200</td>\n",
       "    </tr>\n",
       "    <tr>\n",
       "      <th>2</th>\n",
       "      <td>instagram</td>\n",
       "      <td>300</td>\n",
       "      <td>site2</td>\n",
       "      <td>2002.00</td>\n",
       "      <td>300</td>\n",
       "    </tr>\n",
       "    <tr>\n",
       "      <th>3</th>\n",
       "      <td>linkedin</td>\n",
       "      <td>400</td>\n",
       "      <td>site2</td>\n",
       "      <td>5000.00</td>\n",
       "      <td>800</td>\n",
       "    </tr>\n",
       "    <tr>\n",
       "      <th>4</th>\n",
       "      <td>facebook</td>\n",
       "      <td>500</td>\n",
       "      <td>site3</td>\n",
       "      <td>300.00</td>\n",
       "      <td>200</td>\n",
       "    </tr>\n",
       "  </tbody>\n",
       "</table>\n",
       "</div>"
      ],
      "text/plain": [
       "  canal_venda  acessos   site   vendas  lista\n",
       "0    facebook      100  site1  1000.52    200\n",
       "1     twitter      200  site1  1052.34    200\n",
       "2   instagram      300  site2  2002.00    300\n",
       "3    linkedin      400  site2  5000.00    800\n",
       "4    facebook      500  site3   300.00    200"
      ]
     },
     "execution_count": 61,
     "metadata": {},
     "output_type": "execute_result"
    }
   ],
   "source": [
    "dataframe"
   ]
  },
  {
   "cell_type": "markdown",
   "metadata": {},
   "source": [
    "- Mostrando as colunas"
   ]
  },
  {
   "cell_type": "code",
   "execution_count": 62,
   "metadata": {},
   "outputs": [
    {
     "data": {
      "text/plain": [
       "Index(['canal_venda', 'acessos', 'site', 'vendas', 'lista'], dtype='object')"
      ]
     },
     "execution_count": 62,
     "metadata": {},
     "output_type": "execute_result"
    }
   ],
   "source": [
    "dataframe.columns"
   ]
  },
  {
   "cell_type": "markdown",
   "metadata": {},
   "source": [
    "- Acessando valores especificos"
   ]
  },
  {
   "cell_type": "code",
   "execution_count": 37,
   "metadata": {},
   "outputs": [
    {
     "data": {
      "text/plain": [
       "200"
      ]
     },
     "execution_count": 37,
     "metadata": {},
     "output_type": "execute_result"
    }
   ],
   "source": [
    "dataframe['acessos'][1]"
   ]
  },
  {
   "cell_type": "markdown",
   "metadata": {},
   "source": [
    "- Acessando fatia de coluna específica"
   ]
  },
  {
   "cell_type": "code",
   "execution_count": 38,
   "metadata": {},
   "outputs": [
    {
     "data": {
      "text/plain": [
       "0    facebook\n",
       "1     twitter\n",
       "Name: canal_venda, dtype: object"
      ]
     },
     "execution_count": 38,
     "metadata": {},
     "output_type": "execute_result"
    }
   ],
   "source": [
    "dataframe['canal_venda'][:2]"
   ]
  },
  {
   "cell_type": "code",
   "execution_count": 63,
   "metadata": {},
   "outputs": [
    {
     "data": {
      "text/html": [
       "<div>\n",
       "<style scoped>\n",
       "    .dataframe tbody tr th:only-of-type {\n",
       "        vertical-align: middle;\n",
       "    }\n",
       "\n",
       "    .dataframe tbody tr th {\n",
       "        vertical-align: top;\n",
       "    }\n",
       "\n",
       "    .dataframe thead th {\n",
       "        text-align: right;\n",
       "    }\n",
       "</style>\n",
       "<table border=\"1\" class=\"dataframe\">\n",
       "  <thead>\n",
       "    <tr style=\"text-align: right;\">\n",
       "      <th></th>\n",
       "      <th>canal_venda</th>\n",
       "      <th>acessos</th>\n",
       "      <th>site</th>\n",
       "      <th>vendas</th>\n",
       "      <th>lista</th>\n",
       "    </tr>\n",
       "  </thead>\n",
       "  <tbody>\n",
       "    <tr>\n",
       "      <th>0</th>\n",
       "      <td>facebook</td>\n",
       "      <td>100</td>\n",
       "      <td>site1</td>\n",
       "      <td>1000.52</td>\n",
       "      <td>200</td>\n",
       "    </tr>\n",
       "    <tr>\n",
       "      <th>1</th>\n",
       "      <td>twitter</td>\n",
       "      <td>200</td>\n",
       "      <td>site1</td>\n",
       "      <td>1052.34</td>\n",
       "      <td>200</td>\n",
       "    </tr>\n",
       "    <tr>\n",
       "      <th>2</th>\n",
       "      <td>instagram</td>\n",
       "      <td>300</td>\n",
       "      <td>site2</td>\n",
       "      <td>2002.00</td>\n",
       "      <td>300</td>\n",
       "    </tr>\n",
       "    <tr>\n",
       "      <th>3</th>\n",
       "      <td>linkedin</td>\n",
       "      <td>400</td>\n",
       "      <td>site2</td>\n",
       "      <td>5000.00</td>\n",
       "      <td>800</td>\n",
       "    </tr>\n",
       "    <tr>\n",
       "      <th>4</th>\n",
       "      <td>facebook</td>\n",
       "      <td>500</td>\n",
       "      <td>site3</td>\n",
       "      <td>300.00</td>\n",
       "      <td>200</td>\n",
       "    </tr>\n",
       "  </tbody>\n",
       "</table>\n",
       "</div>"
      ],
      "text/plain": [
       "  canal_venda  acessos   site   vendas  lista\n",
       "0    facebook      100  site1  1000.52    200\n",
       "1     twitter      200  site1  1052.34    200\n",
       "2   instagram      300  site2  2002.00    300\n",
       "3    linkedin      400  site2  5000.00    800\n",
       "4    facebook      500  site3   300.00    200"
      ]
     },
     "execution_count": 63,
     "metadata": {},
     "output_type": "execute_result"
    }
   ],
   "source": [
    "dataframe"
   ]
  },
  {
   "cell_type": "markdown",
   "metadata": {},
   "source": [
    "- Fatiando os dados usando o iloc (linhas | colunas)"
   ]
  },
  {
   "cell_type": "code",
   "execution_count": 40,
   "metadata": {},
   "outputs": [
    {
     "data": {
      "text/html": [
       "<div>\n",
       "<style scoped>\n",
       "    .dataframe tbody tr th:only-of-type {\n",
       "        vertical-align: middle;\n",
       "    }\n",
       "\n",
       "    .dataframe tbody tr th {\n",
       "        vertical-align: top;\n",
       "    }\n",
       "\n",
       "    .dataframe thead th {\n",
       "        text-align: right;\n",
       "    }\n",
       "</style>\n",
       "<table border=\"1\" class=\"dataframe\">\n",
       "  <thead>\n",
       "    <tr style=\"text-align: right;\">\n",
       "      <th></th>\n",
       "      <th>lista</th>\n",
       "      <th>nova_coluna</th>\n",
       "    </tr>\n",
       "  </thead>\n",
       "  <tbody>\n",
       "    <tr>\n",
       "      <th>3</th>\n",
       "      <td>800</td>\n",
       "      <td>4</td>\n",
       "    </tr>\n",
       "    <tr>\n",
       "      <th>4</th>\n",
       "      <td>200</td>\n",
       "      <td>5</td>\n",
       "    </tr>\n",
       "  </tbody>\n",
       "</table>\n",
       "</div>"
      ],
      "text/plain": [
       "   lista  nova_coluna\n",
       "3    800            4\n",
       "4    200            5"
      ]
     },
     "execution_count": 40,
     "metadata": {},
     "output_type": "execute_result"
    }
   ],
   "source": [
    "dataframe.iloc[3:,4:]"
   ]
  },
  {
   "cell_type": "markdown",
   "metadata": {},
   "source": [
    "- Fatiar os dados usando o loc (indice)"
   ]
  },
  {
   "cell_type": "code",
   "execution_count": 64,
   "metadata": {},
   "outputs": [
    {
     "data": {
      "text/html": [
       "<div>\n",
       "<style scoped>\n",
       "    .dataframe tbody tr th:only-of-type {\n",
       "        vertical-align: middle;\n",
       "    }\n",
       "\n",
       "    .dataframe tbody tr th {\n",
       "        vertical-align: top;\n",
       "    }\n",
       "\n",
       "    .dataframe thead th {\n",
       "        text-align: right;\n",
       "    }\n",
       "</style>\n",
       "<table border=\"1\" class=\"dataframe\">\n",
       "  <thead>\n",
       "    <tr style=\"text-align: right;\">\n",
       "      <th></th>\n",
       "      <th>canal_venda</th>\n",
       "      <th>acessos</th>\n",
       "      <th>site</th>\n",
       "      <th>vendas</th>\n",
       "      <th>lista</th>\n",
       "    </tr>\n",
       "  </thead>\n",
       "  <tbody>\n",
       "    <tr>\n",
       "      <th>0</th>\n",
       "      <td>facebook</td>\n",
       "      <td>100</td>\n",
       "      <td>site1</td>\n",
       "      <td>1000.52</td>\n",
       "      <td>200</td>\n",
       "    </tr>\n",
       "    <tr>\n",
       "      <th>1</th>\n",
       "      <td>twitter</td>\n",
       "      <td>200</td>\n",
       "      <td>site1</td>\n",
       "      <td>1052.34</td>\n",
       "      <td>200</td>\n",
       "    </tr>\n",
       "    <tr>\n",
       "      <th>2</th>\n",
       "      <td>instagram</td>\n",
       "      <td>300</td>\n",
       "      <td>site2</td>\n",
       "      <td>2002.00</td>\n",
       "      <td>300</td>\n",
       "    </tr>\n",
       "    <tr>\n",
       "      <th>3</th>\n",
       "      <td>linkedin</td>\n",
       "      <td>400</td>\n",
       "      <td>site2</td>\n",
       "      <td>5000.00</td>\n",
       "      <td>800</td>\n",
       "    </tr>\n",
       "  </tbody>\n",
       "</table>\n",
       "</div>"
      ],
      "text/plain": [
       "  canal_venda  acessos   site   vendas  lista\n",
       "0    facebook      100  site1  1000.52    200\n",
       "1     twitter      200  site1  1052.34    200\n",
       "2   instagram      300  site2  2002.00    300\n",
       "3    linkedin      400  site2  5000.00    800"
      ]
     },
     "execution_count": 64,
     "metadata": {},
     "output_type": "execute_result"
    }
   ],
   "source": [
    "dataframe.loc[:3]"
   ]
  },
  {
   "cell_type": "markdown",
   "metadata": {},
   "source": [
    "- Selecionando colunas específicas"
   ]
  },
  {
   "cell_type": "code",
   "execution_count": 42,
   "metadata": {},
   "outputs": [
    {
     "data": {
      "text/html": [
       "<div>\n",
       "<style scoped>\n",
       "    .dataframe tbody tr th:only-of-type {\n",
       "        vertical-align: middle;\n",
       "    }\n",
       "\n",
       "    .dataframe tbody tr th {\n",
       "        vertical-align: top;\n",
       "    }\n",
       "\n",
       "    .dataframe thead th {\n",
       "        text-align: right;\n",
       "    }\n",
       "</style>\n",
       "<table border=\"1\" class=\"dataframe\">\n",
       "  <thead>\n",
       "    <tr style=\"text-align: right;\">\n",
       "      <th></th>\n",
       "      <th>canal_venda</th>\n",
       "      <th>vendas</th>\n",
       "    </tr>\n",
       "  </thead>\n",
       "  <tbody>\n",
       "    <tr>\n",
       "      <th>0</th>\n",
       "      <td>facebook</td>\n",
       "      <td>1000.52</td>\n",
       "    </tr>\n",
       "    <tr>\n",
       "      <th>1</th>\n",
       "      <td>twitter</td>\n",
       "      <td>1052.34</td>\n",
       "    </tr>\n",
       "    <tr>\n",
       "      <th>2</th>\n",
       "      <td>instagram</td>\n",
       "      <td>2002.00</td>\n",
       "    </tr>\n",
       "    <tr>\n",
       "      <th>3</th>\n",
       "      <td>linkedin</td>\n",
       "      <td>5000.00</td>\n",
       "    </tr>\n",
       "    <tr>\n",
       "      <th>4</th>\n",
       "      <td>facebook</td>\n",
       "      <td>300.00</td>\n",
       "    </tr>\n",
       "  </tbody>\n",
       "</table>\n",
       "</div>"
      ],
      "text/plain": [
       "  canal_venda   vendas\n",
       "0    facebook  1000.52\n",
       "1     twitter  1052.34\n",
       "2   instagram  2002.00\n",
       "3    linkedin  5000.00\n",
       "4    facebook   300.00"
      ]
     },
     "execution_count": 42,
     "metadata": {},
     "output_type": "execute_result"
    }
   ],
   "source": [
    "dataframe[['canal_venda', 'vendas']]"
   ]
  },
  {
   "cell_type": "markdown",
   "metadata": {},
   "source": [
    "- Passando os valores através de lista"
   ]
  },
  {
   "cell_type": "code",
   "execution_count": 43,
   "metadata": {},
   "outputs": [
    {
     "data": {
      "text/html": [
       "<div>\n",
       "<style scoped>\n",
       "    .dataframe tbody tr th:only-of-type {\n",
       "        vertical-align: middle;\n",
       "    }\n",
       "\n",
       "    .dataframe tbody tr th {\n",
       "        vertical-align: top;\n",
       "    }\n",
       "\n",
       "    .dataframe thead th {\n",
       "        text-align: right;\n",
       "    }\n",
       "</style>\n",
       "<table border=\"1\" class=\"dataframe\">\n",
       "  <thead>\n",
       "    <tr style=\"text-align: right;\">\n",
       "      <th></th>\n",
       "      <th>canal_venda</th>\n",
       "      <th>acessos</th>\n",
       "    </tr>\n",
       "  </thead>\n",
       "  <tbody>\n",
       "    <tr>\n",
       "      <th>0</th>\n",
       "      <td>facebook</td>\n",
       "      <td>100</td>\n",
       "    </tr>\n",
       "    <tr>\n",
       "      <th>1</th>\n",
       "      <td>twitter</td>\n",
       "      <td>200</td>\n",
       "    </tr>\n",
       "    <tr>\n",
       "      <th>2</th>\n",
       "      <td>instagram</td>\n",
       "      <td>300</td>\n",
       "    </tr>\n",
       "    <tr>\n",
       "      <th>3</th>\n",
       "      <td>linkedin</td>\n",
       "      <td>400</td>\n",
       "    </tr>\n",
       "    <tr>\n",
       "      <th>4</th>\n",
       "      <td>facebook</td>\n",
       "      <td>500</td>\n",
       "    </tr>\n",
       "  </tbody>\n",
       "</table>\n",
       "</div>"
      ],
      "text/plain": [
       "  canal_venda  acessos\n",
       "0    facebook      100\n",
       "1     twitter      200\n",
       "2   instagram      300\n",
       "3    linkedin      400\n",
       "4    facebook      500"
      ]
     },
     "execution_count": 43,
     "metadata": {},
     "output_type": "execute_result"
    }
   ],
   "source": [
    "filtro = ['canal_venda', 'acessos']\n",
    "dataframe[filtro]"
   ]
  },
  {
   "cell_type": "markdown",
   "metadata": {},
   "source": [
    "- Usando o metodo info()"
   ]
  },
  {
   "cell_type": "code",
   "execution_count": 44,
   "metadata": {},
   "outputs": [
    {
     "name": "stdout",
     "output_type": "stream",
     "text": [
      "<class 'pandas.core.frame.DataFrame'>\n",
      "RangeIndex: 5 entries, 0 to 4\n",
      "Data columns (total 6 columns):\n",
      " #   Column       Non-Null Count  Dtype  \n",
      "---  ------       --------------  -----  \n",
      " 0   canal_venda  5 non-null      object \n",
      " 1   acessos      5 non-null      int64  \n",
      " 2   site         5 non-null      object \n",
      " 3   vendas       5 non-null      float64\n",
      " 4   lista        5 non-null      int64  \n",
      " 5   nova_coluna  5 non-null      int64  \n",
      "dtypes: float64(1), int64(3), object(2)\n",
      "memory usage: 368.0+ bytes\n"
     ]
    }
   ],
   "source": [
    "dataframe.info()"
   ]
  },
  {
   "cell_type": "code",
   "execution_count": 65,
   "metadata": {},
   "outputs": [
    {
     "data": {
      "text/html": [
       "<div>\n",
       "<style scoped>\n",
       "    .dataframe tbody tr th:only-of-type {\n",
       "        vertical-align: middle;\n",
       "    }\n",
       "\n",
       "    .dataframe tbody tr th {\n",
       "        vertical-align: top;\n",
       "    }\n",
       "\n",
       "    .dataframe thead th {\n",
       "        text-align: right;\n",
       "    }\n",
       "</style>\n",
       "<table border=\"1\" class=\"dataframe\">\n",
       "  <thead>\n",
       "    <tr style=\"text-align: right;\">\n",
       "      <th></th>\n",
       "      <th>canal_venda</th>\n",
       "      <th>acessos</th>\n",
       "      <th>site</th>\n",
       "      <th>vendas</th>\n",
       "      <th>lista</th>\n",
       "    </tr>\n",
       "  </thead>\n",
       "  <tbody>\n",
       "    <tr>\n",
       "      <th>0</th>\n",
       "      <td>facebook</td>\n",
       "      <td>100</td>\n",
       "      <td>site1</td>\n",
       "      <td>1000.52</td>\n",
       "      <td>200</td>\n",
       "    </tr>\n",
       "    <tr>\n",
       "      <th>1</th>\n",
       "      <td>twitter</td>\n",
       "      <td>200</td>\n",
       "      <td>site1</td>\n",
       "      <td>1052.34</td>\n",
       "      <td>200</td>\n",
       "    </tr>\n",
       "    <tr>\n",
       "      <th>2</th>\n",
       "      <td>instagram</td>\n",
       "      <td>300</td>\n",
       "      <td>site2</td>\n",
       "      <td>2002.00</td>\n",
       "      <td>300</td>\n",
       "    </tr>\n",
       "    <tr>\n",
       "      <th>3</th>\n",
       "      <td>linkedin</td>\n",
       "      <td>400</td>\n",
       "      <td>site2</td>\n",
       "      <td>5000.00</td>\n",
       "      <td>800</td>\n",
       "    </tr>\n",
       "    <tr>\n",
       "      <th>4</th>\n",
       "      <td>facebook</td>\n",
       "      <td>500</td>\n",
       "      <td>site3</td>\n",
       "      <td>300.00</td>\n",
       "      <td>200</td>\n",
       "    </tr>\n",
       "  </tbody>\n",
       "</table>\n",
       "</div>"
      ],
      "text/plain": [
       "  canal_venda  acessos   site   vendas  lista\n",
       "0    facebook      100  site1  1000.52    200\n",
       "1     twitter      200  site1  1052.34    200\n",
       "2   instagram      300  site2  2002.00    300\n",
       "3    linkedin      400  site2  5000.00    800\n",
       "4    facebook      500  site3   300.00    200"
      ]
     },
     "execution_count": 65,
     "metadata": {},
     "output_type": "execute_result"
    }
   ],
   "source": [
    "dataframe"
   ]
  },
  {
   "cell_type": "markdown",
   "metadata": {},
   "source": [
    "- Pivotando os dados (coluna)"
   ]
  },
  {
   "cell_type": "code",
   "execution_count": 67,
   "metadata": {},
   "outputs": [
    {
     "data": {
      "text/html": [
       "<div>\n",
       "<style scoped>\n",
       "    .dataframe tbody tr th:only-of-type {\n",
       "        vertical-align: middle;\n",
       "    }\n",
       "\n",
       "    .dataframe tbody tr th {\n",
       "        vertical-align: top;\n",
       "    }\n",
       "\n",
       "    .dataframe thead th {\n",
       "        text-align: right;\n",
       "    }\n",
       "</style>\n",
       "<table border=\"1\" class=\"dataframe\">\n",
       "  <thead>\n",
       "    <tr style=\"text-align: right;\">\n",
       "      <th>site</th>\n",
       "      <th>site1</th>\n",
       "      <th>site2</th>\n",
       "      <th>site3</th>\n",
       "    </tr>\n",
       "    <tr>\n",
       "      <th>canal_venda</th>\n",
       "      <th></th>\n",
       "      <th></th>\n",
       "      <th></th>\n",
       "    </tr>\n",
       "  </thead>\n",
       "  <tbody>\n",
       "    <tr>\n",
       "      <th>facebook</th>\n",
       "      <td>100.0</td>\n",
       "      <td>NaN</td>\n",
       "      <td>500.0</td>\n",
       "    </tr>\n",
       "    <tr>\n",
       "      <th>instagram</th>\n",
       "      <td>NaN</td>\n",
       "      <td>300.0</td>\n",
       "      <td>NaN</td>\n",
       "    </tr>\n",
       "    <tr>\n",
       "      <th>linkedin</th>\n",
       "      <td>NaN</td>\n",
       "      <td>400.0</td>\n",
       "      <td>NaN</td>\n",
       "    </tr>\n",
       "    <tr>\n",
       "      <th>twitter</th>\n",
       "      <td>200.0</td>\n",
       "      <td>NaN</td>\n",
       "      <td>NaN</td>\n",
       "    </tr>\n",
       "  </tbody>\n",
       "</table>\n",
       "</div>"
      ],
      "text/plain": [
       "site         site1  site2  site3\n",
       "canal_venda                     \n",
       "facebook     100.0    NaN  500.0\n",
       "instagram      NaN  300.0    NaN\n",
       "linkedin       NaN  400.0    NaN\n",
       "twitter      200.0    NaN    NaN"
      ]
     },
     "execution_count": 67,
     "metadata": {},
     "output_type": "execute_result"
    }
   ],
   "source": [
    "dataframe.pivot(index = 'canal_venda', columns='site', values='acessos')"
   ]
  },
  {
   "cell_type": "code",
   "execution_count": 66,
   "metadata": {},
   "outputs": [],
   "source": [
    "aux = dataframe.pivot(index = 'canal_venda', columns='site', values='acessos')"
   ]
  },
  {
   "cell_type": "code",
   "execution_count": 68,
   "metadata": {},
   "outputs": [
    {
     "name": "stdout",
     "output_type": "stream",
     "text": [
      "<class 'pandas.core.frame.DataFrame'>\n",
      "Index: 4 entries, facebook to twitter\n",
      "Data columns (total 3 columns):\n",
      " #   Column  Non-Null Count  Dtype  \n",
      "---  ------  --------------  -----  \n",
      " 0   site1   2 non-null      float64\n",
      " 1   site2   2 non-null      float64\n",
      " 2   site3   1 non-null      float64\n",
      "dtypes: float64(3)\n",
      "memory usage: 128.0+ bytes\n"
     ]
    }
   ],
   "source": [
    "aux.info()"
   ]
  },
  {
   "cell_type": "markdown",
   "metadata": {},
   "source": [
    "- Completando os valores faltantes usando fillna e pivotando os dados (coluna)"
   ]
  },
  {
   "cell_type": "code",
   "execution_count": 69,
   "metadata": {},
   "outputs": [
    {
     "data": {
      "text/html": [
       "<div>\n",
       "<style scoped>\n",
       "    .dataframe tbody tr th:only-of-type {\n",
       "        vertical-align: middle;\n",
       "    }\n",
       "\n",
       "    .dataframe tbody tr th {\n",
       "        vertical-align: top;\n",
       "    }\n",
       "\n",
       "    .dataframe thead th {\n",
       "        text-align: right;\n",
       "    }\n",
       "</style>\n",
       "<table border=\"1\" class=\"dataframe\">\n",
       "  <thead>\n",
       "    <tr style=\"text-align: right;\">\n",
       "      <th>site</th>\n",
       "      <th>site1</th>\n",
       "      <th>site2</th>\n",
       "      <th>site3</th>\n",
       "    </tr>\n",
       "    <tr>\n",
       "      <th>canal_venda</th>\n",
       "      <th></th>\n",
       "      <th></th>\n",
       "      <th></th>\n",
       "    </tr>\n",
       "  </thead>\n",
       "  <tbody>\n",
       "    <tr>\n",
       "      <th>facebook</th>\n",
       "      <td>100.0</td>\n",
       "      <td>0.0</td>\n",
       "      <td>500.0</td>\n",
       "    </tr>\n",
       "    <tr>\n",
       "      <th>instagram</th>\n",
       "      <td>0.0</td>\n",
       "      <td>300.0</td>\n",
       "      <td>0.0</td>\n",
       "    </tr>\n",
       "    <tr>\n",
       "      <th>linkedin</th>\n",
       "      <td>0.0</td>\n",
       "      <td>400.0</td>\n",
       "      <td>0.0</td>\n",
       "    </tr>\n",
       "    <tr>\n",
       "      <th>twitter</th>\n",
       "      <td>200.0</td>\n",
       "      <td>0.0</td>\n",
       "      <td>0.0</td>\n",
       "    </tr>\n",
       "  </tbody>\n",
       "</table>\n",
       "</div>"
      ],
      "text/plain": [
       "site         site1  site2  site3\n",
       "canal_venda                     \n",
       "facebook     100.0    0.0  500.0\n",
       "instagram      0.0  300.0    0.0\n",
       "linkedin       0.0  400.0    0.0\n",
       "twitter      200.0    0.0    0.0"
      ]
     },
     "execution_count": 69,
     "metadata": {},
     "output_type": "execute_result"
    }
   ],
   "source": [
    "aux= dataframe.pivot(index = 'canal_venda', columns='site', values='acessos').fillna(0)\n",
    "dataframe.pivot(index = 'canal_venda', columns='site', values='acessos').fillna(0)"
   ]
  },
  {
   "cell_type": "code",
   "execution_count": 70,
   "metadata": {},
   "outputs": [
    {
     "data": {
      "text/html": [
       "<div>\n",
       "<style scoped>\n",
       "    .dataframe tbody tr th:only-of-type {\n",
       "        vertical-align: middle;\n",
       "    }\n",
       "\n",
       "    .dataframe tbody tr th {\n",
       "        vertical-align: top;\n",
       "    }\n",
       "\n",
       "    .dataframe thead th {\n",
       "        text-align: right;\n",
       "    }\n",
       "</style>\n",
       "<table border=\"1\" class=\"dataframe\">\n",
       "  <thead>\n",
       "    <tr style=\"text-align: right;\">\n",
       "      <th></th>\n",
       "      <th>canal_venda</th>\n",
       "      <th>acessos</th>\n",
       "      <th>site</th>\n",
       "      <th>vendas</th>\n",
       "      <th>lista</th>\n",
       "    </tr>\n",
       "  </thead>\n",
       "  <tbody>\n",
       "    <tr>\n",
       "      <th>0</th>\n",
       "      <td>facebook</td>\n",
       "      <td>100</td>\n",
       "      <td>site1</td>\n",
       "      <td>1000.52</td>\n",
       "      <td>200</td>\n",
       "    </tr>\n",
       "    <tr>\n",
       "      <th>1</th>\n",
       "      <td>twitter</td>\n",
       "      <td>200</td>\n",
       "      <td>site1</td>\n",
       "      <td>1052.34</td>\n",
       "      <td>200</td>\n",
       "    </tr>\n",
       "    <tr>\n",
       "      <th>2</th>\n",
       "      <td>instagram</td>\n",
       "      <td>300</td>\n",
       "      <td>site2</td>\n",
       "      <td>2002.00</td>\n",
       "      <td>300</td>\n",
       "    </tr>\n",
       "    <tr>\n",
       "      <th>3</th>\n",
       "      <td>linkedin</td>\n",
       "      <td>400</td>\n",
       "      <td>site2</td>\n",
       "      <td>5000.00</td>\n",
       "      <td>800</td>\n",
       "    </tr>\n",
       "    <tr>\n",
       "      <th>4</th>\n",
       "      <td>facebook</td>\n",
       "      <td>500</td>\n",
       "      <td>site3</td>\n",
       "      <td>300.00</td>\n",
       "      <td>200</td>\n",
       "    </tr>\n",
       "  </tbody>\n",
       "</table>\n",
       "</div>"
      ],
      "text/plain": [
       "  canal_venda  acessos   site   vendas  lista\n",
       "0    facebook      100  site1  1000.52    200\n",
       "1     twitter      200  site1  1052.34    200\n",
       "2   instagram      300  site2  2002.00    300\n",
       "3    linkedin      400  site2  5000.00    800\n",
       "4    facebook      500  site3   300.00    200"
      ]
     },
     "execution_count": 70,
     "metadata": {},
     "output_type": "execute_result"
    }
   ],
   "source": [
    "dataframe"
   ]
  },
  {
   "cell_type": "markdown",
   "metadata": {},
   "source": [
    "- Mudando as colunas usando o comando melt"
   ]
  },
  {
   "cell_type": "code",
   "execution_count": 71,
   "metadata": {},
   "outputs": [
    {
     "data": {
      "text/html": [
       "<div>\n",
       "<style scoped>\n",
       "    .dataframe tbody tr th:only-of-type {\n",
       "        vertical-align: middle;\n",
       "    }\n",
       "\n",
       "    .dataframe tbody tr th {\n",
       "        vertical-align: top;\n",
       "    }\n",
       "\n",
       "    .dataframe thead th {\n",
       "        text-align: right;\n",
       "    }\n",
       "</style>\n",
       "<table border=\"1\" class=\"dataframe\">\n",
       "  <thead>\n",
       "    <tr style=\"text-align: right;\">\n",
       "      <th></th>\n",
       "      <th>site</th>\n",
       "      <th>variable</th>\n",
       "      <th>value</th>\n",
       "    </tr>\n",
       "  </thead>\n",
       "  <tbody>\n",
       "    <tr>\n",
       "      <th>0</th>\n",
       "      <td>site1</td>\n",
       "      <td>canal_venda</td>\n",
       "      <td>facebook</td>\n",
       "    </tr>\n",
       "    <tr>\n",
       "      <th>1</th>\n",
       "      <td>site1</td>\n",
       "      <td>canal_venda</td>\n",
       "      <td>twitter</td>\n",
       "    </tr>\n",
       "    <tr>\n",
       "      <th>2</th>\n",
       "      <td>site2</td>\n",
       "      <td>canal_venda</td>\n",
       "      <td>instagram</td>\n",
       "    </tr>\n",
       "    <tr>\n",
       "      <th>3</th>\n",
       "      <td>site2</td>\n",
       "      <td>canal_venda</td>\n",
       "      <td>linkedin</td>\n",
       "    </tr>\n",
       "    <tr>\n",
       "      <th>4</th>\n",
       "      <td>site3</td>\n",
       "      <td>canal_venda</td>\n",
       "      <td>facebook</td>\n",
       "    </tr>\n",
       "  </tbody>\n",
       "</table>\n",
       "</div>"
      ],
      "text/plain": [
       "    site     variable      value\n",
       "0  site1  canal_venda   facebook\n",
       "1  site1  canal_venda    twitter\n",
       "2  site2  canal_venda  instagram\n",
       "3  site2  canal_venda   linkedin\n",
       "4  site3  canal_venda   facebook"
      ]
     },
     "execution_count": 71,
     "metadata": {},
     "output_type": "execute_result"
    }
   ],
   "source": [
    "dataframe.melt(id_vars='site', value_vars=['canal_venda'])"
   ]
  },
  {
   "cell_type": "markdown",
   "metadata": {},
   "source": [
    "- Resetando o índice do dataframe"
   ]
  },
  {
   "cell_type": "code",
   "execution_count": 72,
   "metadata": {},
   "outputs": [
    {
     "name": "stdout",
     "output_type": "stream",
     "text": [
      "Index(['site1', 'site2', 'site3'], dtype='object', name='site')\n",
      "Index(['index', 'canal_venda', 'acessos', 'site', 'vendas', 'lista'], dtype='object')\n"
     ]
    }
   ],
   "source": [
    "print(aux.columns)\n",
    "aux = dataframe.reset_index()\n",
    "print(aux.columns)"
   ]
  },
  {
   "cell_type": "code",
   "execution_count": 74,
   "metadata": {},
   "outputs": [
    {
     "data": {
      "text/html": [
       "<div>\n",
       "<style scoped>\n",
       "    .dataframe tbody tr th:only-of-type {\n",
       "        vertical-align: middle;\n",
       "    }\n",
       "\n",
       "    .dataframe tbody tr th {\n",
       "        vertical-align: top;\n",
       "    }\n",
       "\n",
       "    .dataframe thead th {\n",
       "        text-align: right;\n",
       "    }\n",
       "</style>\n",
       "<table border=\"1\" class=\"dataframe\">\n",
       "  <thead>\n",
       "    <tr style=\"text-align: right;\">\n",
       "      <th></th>\n",
       "      <th>index</th>\n",
       "      <th>canal_venda</th>\n",
       "      <th>acessos</th>\n",
       "      <th>site</th>\n",
       "      <th>vendas</th>\n",
       "      <th>lista</th>\n",
       "    </tr>\n",
       "  </thead>\n",
       "  <tbody>\n",
       "    <tr>\n",
       "      <th>0</th>\n",
       "      <td>0</td>\n",
       "      <td>facebook</td>\n",
       "      <td>100</td>\n",
       "      <td>site1</td>\n",
       "      <td>1000.52</td>\n",
       "      <td>200</td>\n",
       "    </tr>\n",
       "    <tr>\n",
       "      <th>1</th>\n",
       "      <td>1</td>\n",
       "      <td>twitter</td>\n",
       "      <td>200</td>\n",
       "      <td>site1</td>\n",
       "      <td>1052.34</td>\n",
       "      <td>200</td>\n",
       "    </tr>\n",
       "    <tr>\n",
       "      <th>2</th>\n",
       "      <td>2</td>\n",
       "      <td>instagram</td>\n",
       "      <td>300</td>\n",
       "      <td>site2</td>\n",
       "      <td>2002.00</td>\n",
       "      <td>300</td>\n",
       "    </tr>\n",
       "    <tr>\n",
       "      <th>3</th>\n",
       "      <td>3</td>\n",
       "      <td>linkedin</td>\n",
       "      <td>400</td>\n",
       "      <td>site2</td>\n",
       "      <td>5000.00</td>\n",
       "      <td>800</td>\n",
       "    </tr>\n",
       "    <tr>\n",
       "      <th>4</th>\n",
       "      <td>4</td>\n",
       "      <td>facebook</td>\n",
       "      <td>500</td>\n",
       "      <td>site3</td>\n",
       "      <td>300.00</td>\n",
       "      <td>200</td>\n",
       "    </tr>\n",
       "  </tbody>\n",
       "</table>\n",
       "</div>"
      ],
      "text/plain": [
       "   index canal_venda  acessos   site   vendas  lista\n",
       "0      0    facebook      100  site1  1000.52    200\n",
       "1      1     twitter      200  site1  1052.34    200\n",
       "2      2   instagram      300  site2  2002.00    300\n",
       "3      3    linkedin      400  site2  5000.00    800\n",
       "4      4    facebook      500  site3   300.00    200"
      ]
     },
     "execution_count": 74,
     "metadata": {},
     "output_type": "execute_result"
    }
   ],
   "source": [
    "aux"
   ]
  },
  {
   "cell_type": "code",
   "execution_count": 75,
   "metadata": {},
   "outputs": [
    {
     "data": {
      "text/html": [
       "<div>\n",
       "<style scoped>\n",
       "    .dataframe tbody tr th:only-of-type {\n",
       "        vertical-align: middle;\n",
       "    }\n",
       "\n",
       "    .dataframe tbody tr th {\n",
       "        vertical-align: top;\n",
       "    }\n",
       "\n",
       "    .dataframe thead th {\n",
       "        text-align: right;\n",
       "    }\n",
       "</style>\n",
       "<table border=\"1\" class=\"dataframe\">\n",
       "  <thead>\n",
       "    <tr style=\"text-align: right;\">\n",
       "      <th></th>\n",
       "      <th>canal_venda</th>\n",
       "      <th>acessos</th>\n",
       "      <th>site</th>\n",
       "      <th>vendas</th>\n",
       "      <th>lista</th>\n",
       "    </tr>\n",
       "  </thead>\n",
       "  <tbody>\n",
       "    <tr>\n",
       "      <th>0</th>\n",
       "      <td>facebook</td>\n",
       "      <td>100</td>\n",
       "      <td>site1</td>\n",
       "      <td>1000.52</td>\n",
       "      <td>200</td>\n",
       "    </tr>\n",
       "    <tr>\n",
       "      <th>1</th>\n",
       "      <td>twitter</td>\n",
       "      <td>200</td>\n",
       "      <td>site1</td>\n",
       "      <td>1052.34</td>\n",
       "      <td>200</td>\n",
       "    </tr>\n",
       "    <tr>\n",
       "      <th>2</th>\n",
       "      <td>instagram</td>\n",
       "      <td>300</td>\n",
       "      <td>site2</td>\n",
       "      <td>2002.00</td>\n",
       "      <td>300</td>\n",
       "    </tr>\n",
       "    <tr>\n",
       "      <th>3</th>\n",
       "      <td>linkedin</td>\n",
       "      <td>400</td>\n",
       "      <td>site2</td>\n",
       "      <td>5000.00</td>\n",
       "      <td>800</td>\n",
       "    </tr>\n",
       "    <tr>\n",
       "      <th>4</th>\n",
       "      <td>facebook</td>\n",
       "      <td>500</td>\n",
       "      <td>site3</td>\n",
       "      <td>300.00</td>\n",
       "      <td>200</td>\n",
       "    </tr>\n",
       "  </tbody>\n",
       "</table>\n",
       "</div>"
      ],
      "text/plain": [
       "  canal_venda  acessos   site   vendas  lista\n",
       "0    facebook      100  site1  1000.52    200\n",
       "1     twitter      200  site1  1052.34    200\n",
       "2   instagram      300  site2  2002.00    300\n",
       "3    linkedin      400  site2  5000.00    800\n",
       "4    facebook      500  site3   300.00    200"
      ]
     },
     "execution_count": 75,
     "metadata": {},
     "output_type": "execute_result"
    }
   ],
   "source": [
    "dataframe"
   ]
  },
  {
   "cell_type": "code",
   "execution_count": 76,
   "metadata": {},
   "outputs": [
    {
     "data": {
      "text/html": [
       "<div>\n",
       "<style scoped>\n",
       "    .dataframe tbody tr th:only-of-type {\n",
       "        vertical-align: middle;\n",
       "    }\n",
       "\n",
       "    .dataframe tbody tr th {\n",
       "        vertical-align: top;\n",
       "    }\n",
       "\n",
       "    .dataframe thead th {\n",
       "        text-align: right;\n",
       "    }\n",
       "</style>\n",
       "<table border=\"1\" class=\"dataframe\">\n",
       "  <thead>\n",
       "    <tr style=\"text-align: right;\">\n",
       "      <th></th>\n",
       "      <th>level_0</th>\n",
       "      <th>index</th>\n",
       "      <th>canal_venda</th>\n",
       "      <th>acessos</th>\n",
       "      <th>site</th>\n",
       "      <th>vendas</th>\n",
       "      <th>lista</th>\n",
       "    </tr>\n",
       "  </thead>\n",
       "  <tbody>\n",
       "    <tr>\n",
       "      <th>0</th>\n",
       "      <td>0</td>\n",
       "      <td>0</td>\n",
       "      <td>facebook</td>\n",
       "      <td>100</td>\n",
       "      <td>site1</td>\n",
       "      <td>1000.52</td>\n",
       "      <td>200</td>\n",
       "    </tr>\n",
       "    <tr>\n",
       "      <th>1</th>\n",
       "      <td>1</td>\n",
       "      <td>1</td>\n",
       "      <td>twitter</td>\n",
       "      <td>200</td>\n",
       "      <td>site1</td>\n",
       "      <td>1052.34</td>\n",
       "      <td>200</td>\n",
       "    </tr>\n",
       "    <tr>\n",
       "      <th>2</th>\n",
       "      <td>2</td>\n",
       "      <td>2</td>\n",
       "      <td>instagram</td>\n",
       "      <td>300</td>\n",
       "      <td>site2</td>\n",
       "      <td>2002.00</td>\n",
       "      <td>300</td>\n",
       "    </tr>\n",
       "    <tr>\n",
       "      <th>3</th>\n",
       "      <td>3</td>\n",
       "      <td>3</td>\n",
       "      <td>linkedin</td>\n",
       "      <td>400</td>\n",
       "      <td>site2</td>\n",
       "      <td>5000.00</td>\n",
       "      <td>800</td>\n",
       "    </tr>\n",
       "    <tr>\n",
       "      <th>4</th>\n",
       "      <td>4</td>\n",
       "      <td>4</td>\n",
       "      <td>facebook</td>\n",
       "      <td>500</td>\n",
       "      <td>site3</td>\n",
       "      <td>300.00</td>\n",
       "      <td>200</td>\n",
       "    </tr>\n",
       "  </tbody>\n",
       "</table>\n",
       "</div>"
      ],
      "text/plain": [
       "   level_0  index canal_venda  acessos   site   vendas  lista\n",
       "0        0      0    facebook      100  site1  1000.52    200\n",
       "1        1      1     twitter      200  site1  1052.34    200\n",
       "2        2      2   instagram      300  site2  2002.00    300\n",
       "3        3      3    linkedin      400  site2  5000.00    800\n",
       "4        4      4    facebook      500  site3   300.00    200"
      ]
     },
     "execution_count": 76,
     "metadata": {},
     "output_type": "execute_result"
    }
   ],
   "source": [
    "aux.reset_index()"
   ]
  },
  {
   "cell_type": "code",
   "execution_count": 77,
   "metadata": {},
   "outputs": [
    {
     "data": {
      "text/html": [
       "<div>\n",
       "<style scoped>\n",
       "    .dataframe tbody tr th:only-of-type {\n",
       "        vertical-align: middle;\n",
       "    }\n",
       "\n",
       "    .dataframe tbody tr th {\n",
       "        vertical-align: top;\n",
       "    }\n",
       "\n",
       "    .dataframe thead th {\n",
       "        text-align: right;\n",
       "    }\n",
       "</style>\n",
       "<table border=\"1\" class=\"dataframe\">\n",
       "  <thead>\n",
       "    <tr style=\"text-align: right;\">\n",
       "      <th></th>\n",
       "      <th>index</th>\n",
       "      <th>canal_venda</th>\n",
       "      <th>acessos</th>\n",
       "      <th>site</th>\n",
       "      <th>vendas</th>\n",
       "      <th>lista</th>\n",
       "    </tr>\n",
       "  </thead>\n",
       "  <tbody>\n",
       "    <tr>\n",
       "      <th>0</th>\n",
       "      <td>0</td>\n",
       "      <td>facebook</td>\n",
       "      <td>100</td>\n",
       "      <td>site1</td>\n",
       "      <td>1000.52</td>\n",
       "      <td>200</td>\n",
       "    </tr>\n",
       "    <tr>\n",
       "      <th>1</th>\n",
       "      <td>1</td>\n",
       "      <td>twitter</td>\n",
       "      <td>200</td>\n",
       "      <td>site1</td>\n",
       "      <td>1052.34</td>\n",
       "      <td>200</td>\n",
       "    </tr>\n",
       "    <tr>\n",
       "      <th>2</th>\n",
       "      <td>2</td>\n",
       "      <td>instagram</td>\n",
       "      <td>300</td>\n",
       "      <td>site2</td>\n",
       "      <td>2002.00</td>\n",
       "      <td>300</td>\n",
       "    </tr>\n",
       "    <tr>\n",
       "      <th>3</th>\n",
       "      <td>3</td>\n",
       "      <td>linkedin</td>\n",
       "      <td>400</td>\n",
       "      <td>site2</td>\n",
       "      <td>5000.00</td>\n",
       "      <td>800</td>\n",
       "    </tr>\n",
       "    <tr>\n",
       "      <th>4</th>\n",
       "      <td>4</td>\n",
       "      <td>facebook</td>\n",
       "      <td>500</td>\n",
       "      <td>site3</td>\n",
       "      <td>300.00</td>\n",
       "      <td>200</td>\n",
       "    </tr>\n",
       "  </tbody>\n",
       "</table>\n",
       "</div>"
      ],
      "text/plain": [
       "   index canal_venda  acessos   site   vendas  lista\n",
       "0      0    facebook      100  site1  1000.52    200\n",
       "1      1     twitter      200  site1  1052.34    200\n",
       "2      2   instagram      300  site2  2002.00    300\n",
       "3      3    linkedin      400  site2  5000.00    800\n",
       "4      4    facebook      500  site3   300.00    200"
      ]
     },
     "execution_count": 77,
     "metadata": {},
     "output_type": "execute_result"
    }
   ],
   "source": [
    "aux"
   ]
  },
  {
   "cell_type": "markdown",
   "metadata": {},
   "source": [
    "- Exemplo do comando melt"
   ]
  },
  {
   "cell_type": "code",
   "execution_count": 81,
   "metadata": {},
   "outputs": [],
   "source": [
    "aux= dataframe.pivot(index = 'canal_venda', columns='site', values='acessos').fillna(0)"
   ]
  },
  {
   "cell_type": "code",
   "execution_count": 82,
   "metadata": {},
   "outputs": [
    {
     "data": {
      "text/html": [
       "<div>\n",
       "<style scoped>\n",
       "    .dataframe tbody tr th:only-of-type {\n",
       "        vertical-align: middle;\n",
       "    }\n",
       "\n",
       "    .dataframe tbody tr th {\n",
       "        vertical-align: top;\n",
       "    }\n",
       "\n",
       "    .dataframe thead th {\n",
       "        text-align: right;\n",
       "    }\n",
       "</style>\n",
       "<table border=\"1\" class=\"dataframe\">\n",
       "  <thead>\n",
       "    <tr style=\"text-align: right;\">\n",
       "      <th>site</th>\n",
       "      <th>site1</th>\n",
       "      <th>site2</th>\n",
       "      <th>site3</th>\n",
       "    </tr>\n",
       "    <tr>\n",
       "      <th>canal_venda</th>\n",
       "      <th></th>\n",
       "      <th></th>\n",
       "      <th></th>\n",
       "    </tr>\n",
       "  </thead>\n",
       "  <tbody>\n",
       "    <tr>\n",
       "      <th>facebook</th>\n",
       "      <td>100.0</td>\n",
       "      <td>0.0</td>\n",
       "      <td>500.0</td>\n",
       "    </tr>\n",
       "    <tr>\n",
       "      <th>instagram</th>\n",
       "      <td>0.0</td>\n",
       "      <td>300.0</td>\n",
       "      <td>0.0</td>\n",
       "    </tr>\n",
       "    <tr>\n",
       "      <th>linkedin</th>\n",
       "      <td>0.0</td>\n",
       "      <td>400.0</td>\n",
       "      <td>0.0</td>\n",
       "    </tr>\n",
       "    <tr>\n",
       "      <th>twitter</th>\n",
       "      <td>200.0</td>\n",
       "      <td>0.0</td>\n",
       "      <td>0.0</td>\n",
       "    </tr>\n",
       "  </tbody>\n",
       "</table>\n",
       "</div>"
      ],
      "text/plain": [
       "site         site1  site2  site3\n",
       "canal_venda                     \n",
       "facebook     100.0    0.0  500.0\n",
       "instagram      0.0  300.0    0.0\n",
       "linkedin       0.0  400.0    0.0\n",
       "twitter      200.0    0.0    0.0"
      ]
     },
     "execution_count": 82,
     "metadata": {},
     "output_type": "execute_result"
    }
   ],
   "source": [
    "aux"
   ]
  },
  {
   "cell_type": "markdown",
   "metadata": {},
   "source": [
    "- Somando colunas do dataframe "
   ]
  },
  {
   "cell_type": "code",
   "execution_count": 87,
   "metadata": {},
   "outputs": [
    {
     "data": {
      "text/plain": [
       "canal_venda    facebooktwitterinstagramlinkedinfacebook\n",
       "acessos                                            1500\n",
       "site                          site1site1site2site2site3\n",
       "vendas                                          9354.86\n",
       "lista                                              1700\n",
       "dtype: object"
      ]
     },
     "execution_count": 87,
     "metadata": {},
     "output_type": "execute_result"
    }
   ],
   "source": [
    "dataframe.sum()"
   ]
  },
  {
   "cell_type": "markdown",
   "metadata": {},
   "source": [
    "- Somando as linhas do dataframe"
   ]
  },
  {
   "cell_type": "code",
   "execution_count": 88,
   "metadata": {},
   "outputs": [
    {
     "data": {
      "text/plain": [
       "0    1300.52\n",
       "1    1452.34\n",
       "2    2602.00\n",
       "3    6200.00\n",
       "4    1000.00\n",
       "dtype: float64"
      ]
     },
     "execution_count": 88,
     "metadata": {},
     "output_type": "execute_result"
    }
   ],
   "source": [
    "dataframe.sum(axis = 1)"
   ]
  },
  {
   "cell_type": "code",
   "execution_count": 89,
   "metadata": {},
   "outputs": [
    {
     "data": {
      "text/html": [
       "<div>\n",
       "<style scoped>\n",
       "    .dataframe tbody tr th:only-of-type {\n",
       "        vertical-align: middle;\n",
       "    }\n",
       "\n",
       "    .dataframe tbody tr th {\n",
       "        vertical-align: top;\n",
       "    }\n",
       "\n",
       "    .dataframe thead th {\n",
       "        text-align: right;\n",
       "    }\n",
       "</style>\n",
       "<table border=\"1\" class=\"dataframe\">\n",
       "  <thead>\n",
       "    <tr style=\"text-align: right;\">\n",
       "      <th></th>\n",
       "      <th>canal_venda</th>\n",
       "      <th>acessos</th>\n",
       "      <th>site</th>\n",
       "      <th>vendas</th>\n",
       "      <th>lista</th>\n",
       "    </tr>\n",
       "  </thead>\n",
       "  <tbody>\n",
       "    <tr>\n",
       "      <th>0</th>\n",
       "      <td>facebook</td>\n",
       "      <td>100</td>\n",
       "      <td>site1</td>\n",
       "      <td>1000.52</td>\n",
       "      <td>200</td>\n",
       "    </tr>\n",
       "    <tr>\n",
       "      <th>1</th>\n",
       "      <td>twitter</td>\n",
       "      <td>200</td>\n",
       "      <td>site1</td>\n",
       "      <td>1052.34</td>\n",
       "      <td>200</td>\n",
       "    </tr>\n",
       "    <tr>\n",
       "      <th>2</th>\n",
       "      <td>instagram</td>\n",
       "      <td>300</td>\n",
       "      <td>site2</td>\n",
       "      <td>2002.00</td>\n",
       "      <td>300</td>\n",
       "    </tr>\n",
       "    <tr>\n",
       "      <th>3</th>\n",
       "      <td>linkedin</td>\n",
       "      <td>400</td>\n",
       "      <td>site2</td>\n",
       "      <td>5000.00</td>\n",
       "      <td>800</td>\n",
       "    </tr>\n",
       "    <tr>\n",
       "      <th>4</th>\n",
       "      <td>facebook</td>\n",
       "      <td>500</td>\n",
       "      <td>site3</td>\n",
       "      <td>300.00</td>\n",
       "      <td>200</td>\n",
       "    </tr>\n",
       "  </tbody>\n",
       "</table>\n",
       "</div>"
      ],
      "text/plain": [
       "  canal_venda  acessos   site   vendas  lista\n",
       "0    facebook      100  site1  1000.52    200\n",
       "1     twitter      200  site1  1052.34    200\n",
       "2   instagram      300  site2  2002.00    300\n",
       "3    linkedin      400  site2  5000.00    800\n",
       "4    facebook      500  site3   300.00    200"
      ]
     },
     "execution_count": 89,
     "metadata": {},
     "output_type": "execute_result"
    }
   ],
   "source": [
    "dataframe"
   ]
  },
  {
   "cell_type": "markdown",
   "metadata": {},
   "source": [
    "- Calculando a mediana das colunas numericas"
   ]
  },
  {
   "cell_type": "code",
   "execution_count": 91,
   "metadata": {},
   "outputs": [
    {
     "name": "stdout",
     "output_type": "stream",
     "text": [
      "Por linha:  0    200.0\n",
      "1    200.0\n",
      "2    300.0\n",
      "3    800.0\n",
      "4    300.0\n",
      "dtype: float64\n"
     ]
    }
   ],
   "source": [
    "print('Por linha: ',dataframe.median(axis= 1) )"
   ]
  },
  {
   "cell_type": "code",
   "execution_count": 92,
   "metadata": {},
   "outputs": [
    {
     "name": "stdout",
     "output_type": "stream",
     "text": [
      "Por coluna:  acessos     300.00\n",
      "vendas     1052.34\n",
      "lista       200.00\n",
      "dtype: float64\n"
     ]
    }
   ],
   "source": [
    "print('Por coluna: ', dataframe.median())"
   ]
  },
  {
   "cell_type": "markdown",
   "metadata": {},
   "source": [
    "- Calculando a media das colunas númericas"
   ]
  },
  {
   "cell_type": "code",
   "execution_count": 93,
   "metadata": {},
   "outputs": [
    {
     "data": {
      "text/plain": [
       "acessos     300.000\n",
       "vendas     1870.972\n",
       "lista       340.000\n",
       "dtype: float64"
      ]
     },
     "execution_count": 93,
     "metadata": {},
     "output_type": "execute_result"
    }
   ],
   "source": [
    "dataframe.mean()"
   ]
  },
  {
   "cell_type": "markdown",
   "metadata": {},
   "source": [
    "- Calculando o desvio padrão das colunas numericas"
   ]
  },
  {
   "cell_type": "code",
   "execution_count": 94,
   "metadata": {},
   "outputs": [
    {
     "data": {
      "text/plain": [
       "acessos     158.113883\n",
       "vendas     1850.931024\n",
       "lista       260.768096\n",
       "dtype: float64"
      ]
     },
     "execution_count": 94,
     "metadata": {},
     "output_type": "execute_result"
    }
   ],
   "source": [
    "dataframe.std()"
   ]
  },
  {
   "cell_type": "markdown",
   "metadata": {},
   "source": [
    "- Usando o comando describe que calcula estatisticas descritivas para colunas numericas"
   ]
  },
  {
   "cell_type": "code",
   "execution_count": 95,
   "metadata": {},
   "outputs": [
    {
     "data": {
      "text/html": [
       "<div>\n",
       "<style scoped>\n",
       "    .dataframe tbody tr th:only-of-type {\n",
       "        vertical-align: middle;\n",
       "    }\n",
       "\n",
       "    .dataframe tbody tr th {\n",
       "        vertical-align: top;\n",
       "    }\n",
       "\n",
       "    .dataframe thead th {\n",
       "        text-align: right;\n",
       "    }\n",
       "</style>\n",
       "<table border=\"1\" class=\"dataframe\">\n",
       "  <thead>\n",
       "    <tr style=\"text-align: right;\">\n",
       "      <th></th>\n",
       "      <th>acessos</th>\n",
       "      <th>vendas</th>\n",
       "      <th>lista</th>\n",
       "    </tr>\n",
       "  </thead>\n",
       "  <tbody>\n",
       "    <tr>\n",
       "      <th>count</th>\n",
       "      <td>5.000000</td>\n",
       "      <td>5.000000</td>\n",
       "      <td>5.000000</td>\n",
       "    </tr>\n",
       "    <tr>\n",
       "      <th>mean</th>\n",
       "      <td>300.000000</td>\n",
       "      <td>1870.972000</td>\n",
       "      <td>340.000000</td>\n",
       "    </tr>\n",
       "    <tr>\n",
       "      <th>std</th>\n",
       "      <td>158.113883</td>\n",
       "      <td>1850.931024</td>\n",
       "      <td>260.768096</td>\n",
       "    </tr>\n",
       "    <tr>\n",
       "      <th>min</th>\n",
       "      <td>100.000000</td>\n",
       "      <td>300.000000</td>\n",
       "      <td>200.000000</td>\n",
       "    </tr>\n",
       "    <tr>\n",
       "      <th>25%</th>\n",
       "      <td>200.000000</td>\n",
       "      <td>1000.520000</td>\n",
       "      <td>200.000000</td>\n",
       "    </tr>\n",
       "    <tr>\n",
       "      <th>50%</th>\n",
       "      <td>300.000000</td>\n",
       "      <td>1052.340000</td>\n",
       "      <td>200.000000</td>\n",
       "    </tr>\n",
       "    <tr>\n",
       "      <th>75%</th>\n",
       "      <td>400.000000</td>\n",
       "      <td>2002.000000</td>\n",
       "      <td>300.000000</td>\n",
       "    </tr>\n",
       "    <tr>\n",
       "      <th>max</th>\n",
       "      <td>500.000000</td>\n",
       "      <td>5000.000000</td>\n",
       "      <td>800.000000</td>\n",
       "    </tr>\n",
       "  </tbody>\n",
       "</table>\n",
       "</div>"
      ],
      "text/plain": [
       "          acessos       vendas       lista\n",
       "count    5.000000     5.000000    5.000000\n",
       "mean   300.000000  1870.972000  340.000000\n",
       "std    158.113883  1850.931024  260.768096\n",
       "min    100.000000   300.000000  200.000000\n",
       "25%    200.000000  1000.520000  200.000000\n",
       "50%    300.000000  1052.340000  200.000000\n",
       "75%    400.000000  2002.000000  300.000000\n",
       "max    500.000000  5000.000000  800.000000"
      ]
     },
     "execution_count": 95,
     "metadata": {},
     "output_type": "execute_result"
    }
   ],
   "source": [
    "dataframe.describe()"
   ]
  },
  {
   "cell_type": "markdown",
   "metadata": {},
   "source": [
    "- Calculando a moda"
   ]
  },
  {
   "cell_type": "code",
   "execution_count": 96,
   "metadata": {},
   "outputs": [
    {
     "data": {
      "text/html": [
       "<div>\n",
       "<style scoped>\n",
       "    .dataframe tbody tr th:only-of-type {\n",
       "        vertical-align: middle;\n",
       "    }\n",
       "\n",
       "    .dataframe tbody tr th {\n",
       "        vertical-align: top;\n",
       "    }\n",
       "\n",
       "    .dataframe thead th {\n",
       "        text-align: right;\n",
       "    }\n",
       "</style>\n",
       "<table border=\"1\" class=\"dataframe\">\n",
       "  <thead>\n",
       "    <tr style=\"text-align: right;\">\n",
       "      <th></th>\n",
       "      <th>canal_venda</th>\n",
       "      <th>acessos</th>\n",
       "      <th>site</th>\n",
       "      <th>vendas</th>\n",
       "      <th>lista</th>\n",
       "    </tr>\n",
       "  </thead>\n",
       "  <tbody>\n",
       "    <tr>\n",
       "      <th>0</th>\n",
       "      <td>facebook</td>\n",
       "      <td>100</td>\n",
       "      <td>site1</td>\n",
       "      <td>300.00</td>\n",
       "      <td>200.0</td>\n",
       "    </tr>\n",
       "    <tr>\n",
       "      <th>1</th>\n",
       "      <td>NaN</td>\n",
       "      <td>200</td>\n",
       "      <td>site2</td>\n",
       "      <td>1000.52</td>\n",
       "      <td>NaN</td>\n",
       "    </tr>\n",
       "    <tr>\n",
       "      <th>2</th>\n",
       "      <td>NaN</td>\n",
       "      <td>300</td>\n",
       "      <td>NaN</td>\n",
       "      <td>1052.34</td>\n",
       "      <td>NaN</td>\n",
       "    </tr>\n",
       "    <tr>\n",
       "      <th>3</th>\n",
       "      <td>NaN</td>\n",
       "      <td>400</td>\n",
       "      <td>NaN</td>\n",
       "      <td>2002.00</td>\n",
       "      <td>NaN</td>\n",
       "    </tr>\n",
       "    <tr>\n",
       "      <th>4</th>\n",
       "      <td>NaN</td>\n",
       "      <td>500</td>\n",
       "      <td>NaN</td>\n",
       "      <td>5000.00</td>\n",
       "      <td>NaN</td>\n",
       "    </tr>\n",
       "  </tbody>\n",
       "</table>\n",
       "</div>"
      ],
      "text/plain": [
       "  canal_venda  acessos   site   vendas  lista\n",
       "0    facebook      100  site1   300.00  200.0\n",
       "1         NaN      200  site2  1000.52    NaN\n",
       "2         NaN      300    NaN  1052.34    NaN\n",
       "3         NaN      400    NaN  2002.00    NaN\n",
       "4         NaN      500    NaN  5000.00    NaN"
      ]
     },
     "execution_count": 96,
     "metadata": {},
     "output_type": "execute_result"
    }
   ],
   "source": [
    "dataframe.mode()"
   ]
  },
  {
   "cell_type": "markdown",
   "metadata": {},
   "source": [
    "- Valor máximo por coluna"
   ]
  },
  {
   "cell_type": "code",
   "execution_count": 97,
   "metadata": {},
   "outputs": [
    {
     "data": {
      "text/plain": [
       "canal_venda    twitter\n",
       "acessos            500\n",
       "site             site3\n",
       "vendas            5000\n",
       "lista              800\n",
       "dtype: object"
      ]
     },
     "execution_count": 97,
     "metadata": {},
     "output_type": "execute_result"
    }
   ],
   "source": [
    "dataframe.max()"
   ]
  },
  {
   "cell_type": "markdown",
   "metadata": {},
   "source": [
    "- Valor mínimo por coluna"
   ]
  },
  {
   "cell_type": "code",
   "execution_count": 98,
   "metadata": {},
   "outputs": [
    {
     "data": {
      "text/plain": [
       "canal_venda    facebook\n",
       "acessos             100\n",
       "site              site1\n",
       "vendas              300\n",
       "lista               200\n",
       "dtype: object"
      ]
     },
     "execution_count": 98,
     "metadata": {},
     "output_type": "execute_result"
    }
   ],
   "source": [
    "dataframe.min()"
   ]
  },
  {
   "cell_type": "markdown",
   "metadata": {},
   "source": [
    "- Printando o número de valores únicos"
   ]
  },
  {
   "cell_type": "code",
   "execution_count": 99,
   "metadata": {},
   "outputs": [
    {
     "data": {
      "text/plain": [
       "canal_venda    4\n",
       "acessos        5\n",
       "site           3\n",
       "vendas         5\n",
       "lista          3\n",
       "dtype: int64"
      ]
     },
     "execution_count": 99,
     "metadata": {},
     "output_type": "execute_result"
    }
   ],
   "source": [
    "dataframe.nunique()"
   ]
  },
  {
   "cell_type": "markdown",
   "metadata": {},
   "source": [
    "- Contando valores únicos de uma coluna"
   ]
  },
  {
   "cell_type": "code",
   "execution_count": 100,
   "metadata": {},
   "outputs": [
    {
     "data": {
      "text/plain": [
       "facebook     2\n",
       "linkedin     1\n",
       "twitter      1\n",
       "instagram    1\n",
       "Name: canal_venda, dtype: int64"
      ]
     },
     "execution_count": 100,
     "metadata": {},
     "output_type": "execute_result"
    }
   ],
   "source": [
    "dataframe['canal_venda'].value_counts()"
   ]
  },
  {
   "cell_type": "markdown",
   "metadata": {},
   "source": [
    "- Valores únicos de uma coluna"
   ]
  },
  {
   "cell_type": "code",
   "execution_count": 101,
   "metadata": {},
   "outputs": [
    {
     "data": {
      "text/plain": [
       "array(['facebook', 'twitter', 'instagram', 'linkedin'], dtype=object)"
      ]
     },
     "execution_count": 101,
     "metadata": {},
     "output_type": "execute_result"
    }
   ],
   "source": [
    "dataframe['canal_venda'].unique()"
   ]
  },
  {
   "cell_type": "markdown",
   "metadata": {},
   "source": [
    "- Usando o groupby com valores numericos"
   ]
  },
  {
   "cell_type": "code",
   "execution_count": 102,
   "metadata": {},
   "outputs": [
    {
     "data": {
      "text/plain": [
       "site\n",
       "site1    300\n",
       "site2    700\n",
       "site3    500\n",
       "Name: acessos, dtype: int64"
      ]
     },
     "execution_count": 102,
     "metadata": {},
     "output_type": "execute_result"
    }
   ],
   "source": [
    "dataframe.groupby('site')['acessos'].sum()"
   ]
  },
  {
   "cell_type": "code",
   "execution_count": 103,
   "metadata": {},
   "outputs": [
    {
     "data": {
      "text/plain": [
       "canal_venda\n",
       "facebook     300\n",
       "instagram    300\n",
       "linkedin     400\n",
       "twitter      200\n",
       "Name: acessos, dtype: int64"
      ]
     },
     "execution_count": 103,
     "metadata": {},
     "output_type": "execute_result"
    }
   ],
   "source": [
    "dataframe.groupby('canal_venda')['acessos'].median()"
   ]
  },
  {
   "cell_type": "markdown",
   "metadata": {},
   "source": [
    "- Usando o groupby com categoricos"
   ]
  },
  {
   "cell_type": "code",
   "execution_count": 104,
   "metadata": {},
   "outputs": [
    {
     "data": {
      "text/plain": [
       "site\n",
       "site1      [facebook, twitter]\n",
       "site2    [instagram, linkedin]\n",
       "site3               [facebook]\n",
       "Name: canal_venda, dtype: object"
      ]
     },
     "execution_count": 104,
     "metadata": {},
     "output_type": "execute_result"
    }
   ],
   "source": [
    "dataframe.groupby('site')['canal_venda'].unique()"
   ]
  },
  {
   "cell_type": "code",
   "execution_count": 105,
   "metadata": {},
   "outputs": [
    {
     "data": {
      "text/plain": [
       "site\n",
       "site1     facebook\n",
       "site2    instagram\n",
       "site3     facebook\n",
       "Name: canal_venda, dtype: object"
      ]
     },
     "execution_count": 105,
     "metadata": {},
     "output_type": "execute_result"
    }
   ],
   "source": [
    "dataframe.groupby('site')['canal_venda'].first()"
   ]
  },
  {
   "cell_type": "markdown",
   "metadata": {},
   "source": [
    "- Usando o groupby com a função agg"
   ]
  },
  {
   "cell_type": "code",
   "execution_count": 106,
   "metadata": {},
   "outputs": [
    {
     "data": {
      "text/html": [
       "<div>\n",
       "<style scoped>\n",
       "    .dataframe tbody tr th:only-of-type {\n",
       "        vertical-align: middle;\n",
       "    }\n",
       "\n",
       "    .dataframe tbody tr th {\n",
       "        vertical-align: top;\n",
       "    }\n",
       "\n",
       "    .dataframe thead th {\n",
       "        text-align: right;\n",
       "    }\n",
       "</style>\n",
       "<table border=\"1\" class=\"dataframe\">\n",
       "  <thead>\n",
       "    <tr style=\"text-align: right;\">\n",
       "      <th></th>\n",
       "      <th>site</th>\n",
       "      <th>acessos</th>\n",
       "    </tr>\n",
       "    <tr>\n",
       "      <th>canal_venda</th>\n",
       "      <th></th>\n",
       "      <th></th>\n",
       "    </tr>\n",
       "  </thead>\n",
       "  <tbody>\n",
       "    <tr>\n",
       "      <th>facebook</th>\n",
       "      <td>[site1, site3]</td>\n",
       "      <td>600</td>\n",
       "    </tr>\n",
       "    <tr>\n",
       "      <th>instagram</th>\n",
       "      <td>[site2]</td>\n",
       "      <td>300</td>\n",
       "    </tr>\n",
       "    <tr>\n",
       "      <th>linkedin</th>\n",
       "      <td>[site2]</td>\n",
       "      <td>400</td>\n",
       "    </tr>\n",
       "    <tr>\n",
       "      <th>twitter</th>\n",
       "      <td>[site1]</td>\n",
       "      <td>200</td>\n",
       "    </tr>\n",
       "  </tbody>\n",
       "</table>\n",
       "</div>"
      ],
      "text/plain": [
       "                       site  acessos\n",
       "canal_venda                         \n",
       "facebook     [site1, site3]      600\n",
       "instagram           [site2]      300\n",
       "linkedin            [site2]      400\n",
       "twitter             [site1]      200"
      ]
     },
     "execution_count": 106,
     "metadata": {},
     "output_type": "execute_result"
    }
   ],
   "source": [
    "dataframe.groupby('canal_venda').agg({'site': 'unique',\n",
    "                                     'acessos': 'sum'})"
   ]
  },
  {
   "cell_type": "markdown",
   "metadata": {},
   "source": [
    "- Correlações entre variáveis"
   ]
  },
  {
   "cell_type": "code",
   "execution_count": 107,
   "metadata": {},
   "outputs": [
    {
     "data": {
      "text/html": [
       "<div>\n",
       "<style scoped>\n",
       "    .dataframe tbody tr th:only-of-type {\n",
       "        vertical-align: middle;\n",
       "    }\n",
       "\n",
       "    .dataframe tbody tr th {\n",
       "        vertical-align: top;\n",
       "    }\n",
       "\n",
       "    .dataframe thead th {\n",
       "        text-align: right;\n",
       "    }\n",
       "</style>\n",
       "<table border=\"1\" class=\"dataframe\">\n",
       "  <thead>\n",
       "    <tr style=\"text-align: right;\">\n",
       "      <th></th>\n",
       "      <th>acessos</th>\n",
       "      <th>vendas</th>\n",
       "      <th>lista</th>\n",
       "    </tr>\n",
       "  </thead>\n",
       "  <tbody>\n",
       "    <tr>\n",
       "      <th>acessos</th>\n",
       "      <td>1.00000</td>\n",
       "      <td>0.000000</td>\n",
       "      <td>0.335410</td>\n",
       "    </tr>\n",
       "    <tr>\n",
       "      <th>vendas</th>\n",
       "      <td>0.00000</td>\n",
       "      <td>1.000000</td>\n",
       "      <td>0.894427</td>\n",
       "    </tr>\n",
       "    <tr>\n",
       "      <th>lista</th>\n",
       "      <td>0.33541</td>\n",
       "      <td>0.894427</td>\n",
       "      <td>1.000000</td>\n",
       "    </tr>\n",
       "  </tbody>\n",
       "</table>\n",
       "</div>"
      ],
      "text/plain": [
       "         acessos    vendas     lista\n",
       "acessos  1.00000  0.000000  0.335410\n",
       "vendas   0.00000  1.000000  0.894427\n",
       "lista    0.33541  0.894427  1.000000"
      ]
     },
     "execution_count": 107,
     "metadata": {},
     "output_type": "execute_result"
    }
   ],
   "source": [
    "dataframe.corr(method = 'spearman')"
   ]
  },
  {
   "cell_type": "code",
   "execution_count": 108,
   "metadata": {},
   "outputs": [
    {
     "data": {
      "text/html": [
       "<div>\n",
       "<style scoped>\n",
       "    .dataframe tbody tr th:only-of-type {\n",
       "        vertical-align: middle;\n",
       "    }\n",
       "\n",
       "    .dataframe tbody tr th {\n",
       "        vertical-align: top;\n",
       "    }\n",
       "\n",
       "    .dataframe thead th {\n",
       "        text-align: right;\n",
       "    }\n",
       "</style>\n",
       "<table border=\"1\" class=\"dataframe\">\n",
       "  <thead>\n",
       "    <tr style=\"text-align: right;\">\n",
       "      <th></th>\n",
       "      <th>canal_venda</th>\n",
       "      <th>acessos</th>\n",
       "      <th>site</th>\n",
       "      <th>vendas</th>\n",
       "      <th>lista</th>\n",
       "    </tr>\n",
       "  </thead>\n",
       "  <tbody>\n",
       "    <tr>\n",
       "      <th>0</th>\n",
       "      <td>facebook</td>\n",
       "      <td>100</td>\n",
       "      <td>site1</td>\n",
       "      <td>1000.52</td>\n",
       "      <td>200</td>\n",
       "    </tr>\n",
       "    <tr>\n",
       "      <th>1</th>\n",
       "      <td>twitter</td>\n",
       "      <td>200</td>\n",
       "      <td>site1</td>\n",
       "      <td>1052.34</td>\n",
       "      <td>200</td>\n",
       "    </tr>\n",
       "    <tr>\n",
       "      <th>2</th>\n",
       "      <td>instagram</td>\n",
       "      <td>300</td>\n",
       "      <td>site2</td>\n",
       "      <td>2002.00</td>\n",
       "      <td>300</td>\n",
       "    </tr>\n",
       "    <tr>\n",
       "      <th>3</th>\n",
       "      <td>linkedin</td>\n",
       "      <td>400</td>\n",
       "      <td>site2</td>\n",
       "      <td>5000.00</td>\n",
       "      <td>800</td>\n",
       "    </tr>\n",
       "    <tr>\n",
       "      <th>4</th>\n",
       "      <td>facebook</td>\n",
       "      <td>500</td>\n",
       "      <td>site3</td>\n",
       "      <td>300.00</td>\n",
       "      <td>200</td>\n",
       "    </tr>\n",
       "  </tbody>\n",
       "</table>\n",
       "</div>"
      ],
      "text/plain": [
       "  canal_venda  acessos   site   vendas  lista\n",
       "0    facebook      100  site1  1000.52    200\n",
       "1     twitter      200  site1  1052.34    200\n",
       "2   instagram      300  site2  2002.00    300\n",
       "3    linkedin      400  site2  5000.00    800\n",
       "4    facebook      500  site3   300.00    200"
      ]
     },
     "execution_count": 108,
     "metadata": {},
     "output_type": "execute_result"
    }
   ],
   "source": [
    "dataframe"
   ]
  },
  {
   "cell_type": "markdown",
   "metadata": {},
   "source": [
    "- Criando variáveis categoricas por fatia de variável numerica"
   ]
  },
  {
   "cell_type": "code",
   "execution_count": 109,
   "metadata": {},
   "outputs": [],
   "source": [
    "dataframe['categoria_vendas'] = pd.cut(dataframe['vendas'],\n",
    "                                       bins= (0, 1500, 2000, 8000), \n",
    "                                       labels = ('0 a 1500', '1500 a 2000', '2000 a 8000'))"
   ]
  },
  {
   "cell_type": "code",
   "execution_count": 110,
   "metadata": {},
   "outputs": [
    {
     "data": {
      "text/html": [
       "<div>\n",
       "<style scoped>\n",
       "    .dataframe tbody tr th:only-of-type {\n",
       "        vertical-align: middle;\n",
       "    }\n",
       "\n",
       "    .dataframe tbody tr th {\n",
       "        vertical-align: top;\n",
       "    }\n",
       "\n",
       "    .dataframe thead th {\n",
       "        text-align: right;\n",
       "    }\n",
       "</style>\n",
       "<table border=\"1\" class=\"dataframe\">\n",
       "  <thead>\n",
       "    <tr style=\"text-align: right;\">\n",
       "      <th></th>\n",
       "      <th>canal_venda</th>\n",
       "      <th>acessos</th>\n",
       "      <th>site</th>\n",
       "      <th>vendas</th>\n",
       "      <th>lista</th>\n",
       "      <th>categoria_vendas</th>\n",
       "    </tr>\n",
       "  </thead>\n",
       "  <tbody>\n",
       "    <tr>\n",
       "      <th>0</th>\n",
       "      <td>facebook</td>\n",
       "      <td>100</td>\n",
       "      <td>site1</td>\n",
       "      <td>1000.52</td>\n",
       "      <td>200</td>\n",
       "      <td>0 a 1500</td>\n",
       "    </tr>\n",
       "    <tr>\n",
       "      <th>1</th>\n",
       "      <td>twitter</td>\n",
       "      <td>200</td>\n",
       "      <td>site1</td>\n",
       "      <td>1052.34</td>\n",
       "      <td>200</td>\n",
       "      <td>0 a 1500</td>\n",
       "    </tr>\n",
       "    <tr>\n",
       "      <th>2</th>\n",
       "      <td>instagram</td>\n",
       "      <td>300</td>\n",
       "      <td>site2</td>\n",
       "      <td>2002.00</td>\n",
       "      <td>300</td>\n",
       "      <td>2000 a 8000</td>\n",
       "    </tr>\n",
       "    <tr>\n",
       "      <th>3</th>\n",
       "      <td>linkedin</td>\n",
       "      <td>400</td>\n",
       "      <td>site2</td>\n",
       "      <td>5000.00</td>\n",
       "      <td>800</td>\n",
       "      <td>2000 a 8000</td>\n",
       "    </tr>\n",
       "    <tr>\n",
       "      <th>4</th>\n",
       "      <td>facebook</td>\n",
       "      <td>500</td>\n",
       "      <td>site3</td>\n",
       "      <td>300.00</td>\n",
       "      <td>200</td>\n",
       "      <td>0 a 1500</td>\n",
       "    </tr>\n",
       "  </tbody>\n",
       "</table>\n",
       "</div>"
      ],
      "text/plain": [
       "  canal_venda  acessos   site   vendas  lista categoria_vendas\n",
       "0    facebook      100  site1  1000.52    200         0 a 1500\n",
       "1     twitter      200  site1  1052.34    200         0 a 1500\n",
       "2   instagram      300  site2  2002.00    300      2000 a 8000\n",
       "3    linkedin      400  site2  5000.00    800      2000 a 8000\n",
       "4    facebook      500  site3   300.00    200         0 a 1500"
      ]
     },
     "execution_count": 110,
     "metadata": {},
     "output_type": "execute_result"
    }
   ],
   "source": [
    "dataframe"
   ]
  },
  {
   "cell_type": "markdown",
   "metadata": {},
   "source": [
    "- Criando variável categorica usando compressão de lista"
   ]
  },
  {
   "cell_type": "code",
   "execution_count": 111,
   "metadata": {},
   "outputs": [],
   "source": [
    "dataframe['categoria_acessos'] = ['maior_que_300' if x > 300 else 'menor_que_300' for x in dataframe['acessos']]"
   ]
  },
  {
   "cell_type": "code",
   "execution_count": 112,
   "metadata": {},
   "outputs": [
    {
     "data": {
      "text/html": [
       "<div>\n",
       "<style scoped>\n",
       "    .dataframe tbody tr th:only-of-type {\n",
       "        vertical-align: middle;\n",
       "    }\n",
       "\n",
       "    .dataframe tbody tr th {\n",
       "        vertical-align: top;\n",
       "    }\n",
       "\n",
       "    .dataframe thead th {\n",
       "        text-align: right;\n",
       "    }\n",
       "</style>\n",
       "<table border=\"1\" class=\"dataframe\">\n",
       "  <thead>\n",
       "    <tr style=\"text-align: right;\">\n",
       "      <th></th>\n",
       "      <th>canal_venda</th>\n",
       "      <th>acessos</th>\n",
       "      <th>site</th>\n",
       "      <th>vendas</th>\n",
       "      <th>lista</th>\n",
       "      <th>categoria_vendas</th>\n",
       "      <th>categoria_acessos</th>\n",
       "    </tr>\n",
       "  </thead>\n",
       "  <tbody>\n",
       "    <tr>\n",
       "      <th>0</th>\n",
       "      <td>facebook</td>\n",
       "      <td>100</td>\n",
       "      <td>site1</td>\n",
       "      <td>1000.52</td>\n",
       "      <td>200</td>\n",
       "      <td>0 a 1500</td>\n",
       "      <td>menor_que_300</td>\n",
       "    </tr>\n",
       "    <tr>\n",
       "      <th>1</th>\n",
       "      <td>twitter</td>\n",
       "      <td>200</td>\n",
       "      <td>site1</td>\n",
       "      <td>1052.34</td>\n",
       "      <td>200</td>\n",
       "      <td>0 a 1500</td>\n",
       "      <td>menor_que_300</td>\n",
       "    </tr>\n",
       "    <tr>\n",
       "      <th>2</th>\n",
       "      <td>instagram</td>\n",
       "      <td>300</td>\n",
       "      <td>site2</td>\n",
       "      <td>2002.00</td>\n",
       "      <td>300</td>\n",
       "      <td>2000 a 8000</td>\n",
       "      <td>menor_que_300</td>\n",
       "    </tr>\n",
       "    <tr>\n",
       "      <th>3</th>\n",
       "      <td>linkedin</td>\n",
       "      <td>400</td>\n",
       "      <td>site2</td>\n",
       "      <td>5000.00</td>\n",
       "      <td>800</td>\n",
       "      <td>2000 a 8000</td>\n",
       "      <td>maior_que_300</td>\n",
       "    </tr>\n",
       "    <tr>\n",
       "      <th>4</th>\n",
       "      <td>facebook</td>\n",
       "      <td>500</td>\n",
       "      <td>site3</td>\n",
       "      <td>300.00</td>\n",
       "      <td>200</td>\n",
       "      <td>0 a 1500</td>\n",
       "      <td>maior_que_300</td>\n",
       "    </tr>\n",
       "  </tbody>\n",
       "</table>\n",
       "</div>"
      ],
      "text/plain": [
       "  canal_venda  acessos   site   vendas  lista categoria_vendas  \\\n",
       "0    facebook      100  site1  1000.52    200         0 a 1500   \n",
       "1     twitter      200  site1  1052.34    200         0 a 1500   \n",
       "2   instagram      300  site2  2002.00    300      2000 a 8000   \n",
       "3    linkedin      400  site2  5000.00    800      2000 a 8000   \n",
       "4    facebook      500  site3   300.00    200         0 a 1500   \n",
       "\n",
       "  categoria_acessos  \n",
       "0     menor_que_300  \n",
       "1     menor_que_300  \n",
       "2     menor_que_300  \n",
       "3     maior_que_300  \n",
       "4     maior_que_300  "
      ]
     },
     "execution_count": 112,
     "metadata": {},
     "output_type": "execute_result"
    }
   ],
   "source": [
    "dataframe"
   ]
  },
  {
   "cell_type": "markdown",
   "metadata": {},
   "source": [
    "- Juntando dois dataframes"
   ]
  },
  {
   "cell_type": "markdown",
   "metadata": {},
   "source": [
    "Criando o dataframe_2"
   ]
  },
  {
   "cell_type": "code",
   "execution_count": 113,
   "metadata": {},
   "outputs": [],
   "source": [
    "dataframe_2 = pd.DataFrame({'site': ['site1', 'site1', 'site2', 'site2', 'site3'],\n",
    "               'suporte': ['Carlos', 'Carlos', 'Maria', 'Maria', 'Ezequiel']})"
   ]
  },
  {
   "cell_type": "code",
   "execution_count": 114,
   "metadata": {},
   "outputs": [
    {
     "data": {
      "text/html": [
       "<div>\n",
       "<style scoped>\n",
       "    .dataframe tbody tr th:only-of-type {\n",
       "        vertical-align: middle;\n",
       "    }\n",
       "\n",
       "    .dataframe tbody tr th {\n",
       "        vertical-align: top;\n",
       "    }\n",
       "\n",
       "    .dataframe thead th {\n",
       "        text-align: right;\n",
       "    }\n",
       "</style>\n",
       "<table border=\"1\" class=\"dataframe\">\n",
       "  <thead>\n",
       "    <tr style=\"text-align: right;\">\n",
       "      <th></th>\n",
       "      <th>site</th>\n",
       "      <th>suporte</th>\n",
       "    </tr>\n",
       "  </thead>\n",
       "  <tbody>\n",
       "    <tr>\n",
       "      <th>0</th>\n",
       "      <td>site1</td>\n",
       "      <td>Carlos</td>\n",
       "    </tr>\n",
       "    <tr>\n",
       "      <th>1</th>\n",
       "      <td>site1</td>\n",
       "      <td>Carlos</td>\n",
       "    </tr>\n",
       "    <tr>\n",
       "      <th>2</th>\n",
       "      <td>site2</td>\n",
       "      <td>Maria</td>\n",
       "    </tr>\n",
       "    <tr>\n",
       "      <th>3</th>\n",
       "      <td>site2</td>\n",
       "      <td>Maria</td>\n",
       "    </tr>\n",
       "    <tr>\n",
       "      <th>4</th>\n",
       "      <td>site3</td>\n",
       "      <td>Ezequiel</td>\n",
       "    </tr>\n",
       "  </tbody>\n",
       "</table>\n",
       "</div>"
      ],
      "text/plain": [
       "    site   suporte\n",
       "0  site1    Carlos\n",
       "1  site1    Carlos\n",
       "2  site2     Maria\n",
       "3  site2     Maria\n",
       "4  site3  Ezequiel"
      ]
     },
     "execution_count": 114,
     "metadata": {},
     "output_type": "execute_result"
    }
   ],
   "source": [
    "dataframe_2"
   ]
  },
  {
   "cell_type": "markdown",
   "metadata": {},
   "source": [
    "- Realizando o merge"
   ]
  },
  {
   "cell_type": "code",
   "execution_count": 115,
   "metadata": {},
   "outputs": [
    {
     "data": {
      "text/html": [
       "<div>\n",
       "<style scoped>\n",
       "    .dataframe tbody tr th:only-of-type {\n",
       "        vertical-align: middle;\n",
       "    }\n",
       "\n",
       "    .dataframe tbody tr th {\n",
       "        vertical-align: top;\n",
       "    }\n",
       "\n",
       "    .dataframe thead th {\n",
       "        text-align: right;\n",
       "    }\n",
       "</style>\n",
       "<table border=\"1\" class=\"dataframe\">\n",
       "  <thead>\n",
       "    <tr style=\"text-align: right;\">\n",
       "      <th></th>\n",
       "      <th>canal_venda</th>\n",
       "      <th>acessos</th>\n",
       "      <th>site</th>\n",
       "      <th>vendas</th>\n",
       "      <th>lista</th>\n",
       "      <th>categoria_vendas</th>\n",
       "      <th>categoria_acessos</th>\n",
       "      <th>suporte</th>\n",
       "    </tr>\n",
       "  </thead>\n",
       "  <tbody>\n",
       "    <tr>\n",
       "      <th>0</th>\n",
       "      <td>facebook</td>\n",
       "      <td>100</td>\n",
       "      <td>site1</td>\n",
       "      <td>1000.52</td>\n",
       "      <td>200</td>\n",
       "      <td>0 a 1500</td>\n",
       "      <td>menor_que_300</td>\n",
       "      <td>Carlos</td>\n",
       "    </tr>\n",
       "    <tr>\n",
       "      <th>1</th>\n",
       "      <td>facebook</td>\n",
       "      <td>100</td>\n",
       "      <td>site1</td>\n",
       "      <td>1000.52</td>\n",
       "      <td>200</td>\n",
       "      <td>0 a 1500</td>\n",
       "      <td>menor_que_300</td>\n",
       "      <td>Carlos</td>\n",
       "    </tr>\n",
       "    <tr>\n",
       "      <th>2</th>\n",
       "      <td>twitter</td>\n",
       "      <td>200</td>\n",
       "      <td>site1</td>\n",
       "      <td>1052.34</td>\n",
       "      <td>200</td>\n",
       "      <td>0 a 1500</td>\n",
       "      <td>menor_que_300</td>\n",
       "      <td>Carlos</td>\n",
       "    </tr>\n",
       "    <tr>\n",
       "      <th>3</th>\n",
       "      <td>twitter</td>\n",
       "      <td>200</td>\n",
       "      <td>site1</td>\n",
       "      <td>1052.34</td>\n",
       "      <td>200</td>\n",
       "      <td>0 a 1500</td>\n",
       "      <td>menor_que_300</td>\n",
       "      <td>Carlos</td>\n",
       "    </tr>\n",
       "    <tr>\n",
       "      <th>4</th>\n",
       "      <td>instagram</td>\n",
       "      <td>300</td>\n",
       "      <td>site2</td>\n",
       "      <td>2002.00</td>\n",
       "      <td>300</td>\n",
       "      <td>2000 a 8000</td>\n",
       "      <td>menor_que_300</td>\n",
       "      <td>Maria</td>\n",
       "    </tr>\n",
       "    <tr>\n",
       "      <th>5</th>\n",
       "      <td>instagram</td>\n",
       "      <td>300</td>\n",
       "      <td>site2</td>\n",
       "      <td>2002.00</td>\n",
       "      <td>300</td>\n",
       "      <td>2000 a 8000</td>\n",
       "      <td>menor_que_300</td>\n",
       "      <td>Maria</td>\n",
       "    </tr>\n",
       "    <tr>\n",
       "      <th>6</th>\n",
       "      <td>linkedin</td>\n",
       "      <td>400</td>\n",
       "      <td>site2</td>\n",
       "      <td>5000.00</td>\n",
       "      <td>800</td>\n",
       "      <td>2000 a 8000</td>\n",
       "      <td>maior_que_300</td>\n",
       "      <td>Maria</td>\n",
       "    </tr>\n",
       "    <tr>\n",
       "      <th>7</th>\n",
       "      <td>linkedin</td>\n",
       "      <td>400</td>\n",
       "      <td>site2</td>\n",
       "      <td>5000.00</td>\n",
       "      <td>800</td>\n",
       "      <td>2000 a 8000</td>\n",
       "      <td>maior_que_300</td>\n",
       "      <td>Maria</td>\n",
       "    </tr>\n",
       "    <tr>\n",
       "      <th>8</th>\n",
       "      <td>facebook</td>\n",
       "      <td>500</td>\n",
       "      <td>site3</td>\n",
       "      <td>300.00</td>\n",
       "      <td>200</td>\n",
       "      <td>0 a 1500</td>\n",
       "      <td>maior_que_300</td>\n",
       "      <td>Ezequiel</td>\n",
       "    </tr>\n",
       "  </tbody>\n",
       "</table>\n",
       "</div>"
      ],
      "text/plain": [
       "  canal_venda  acessos   site   vendas  lista categoria_vendas  \\\n",
       "0    facebook      100  site1  1000.52    200         0 a 1500   \n",
       "1    facebook      100  site1  1000.52    200         0 a 1500   \n",
       "2     twitter      200  site1  1052.34    200         0 a 1500   \n",
       "3     twitter      200  site1  1052.34    200         0 a 1500   \n",
       "4   instagram      300  site2  2002.00    300      2000 a 8000   \n",
       "5   instagram      300  site2  2002.00    300      2000 a 8000   \n",
       "6    linkedin      400  site2  5000.00    800      2000 a 8000   \n",
       "7    linkedin      400  site2  5000.00    800      2000 a 8000   \n",
       "8    facebook      500  site3   300.00    200         0 a 1500   \n",
       "\n",
       "  categoria_acessos   suporte  \n",
       "0     menor_que_300    Carlos  \n",
       "1     menor_que_300    Carlos  \n",
       "2     menor_que_300    Carlos  \n",
       "3     menor_que_300    Carlos  \n",
       "4     menor_que_300     Maria  \n",
       "5     menor_que_300     Maria  \n",
       "6     maior_que_300     Maria  \n",
       "7     maior_que_300     Maria  \n",
       "8     maior_que_300  Ezequiel  "
      ]
     },
     "execution_count": 115,
     "metadata": {},
     "output_type": "execute_result"
    }
   ],
   "source": [
    "dataframe.merge(dataframe_2, on = 'site', how = 'left')"
   ]
  },
  {
   "cell_type": "markdown",
   "metadata": {},
   "source": [
    "- Salvando o dataframe como csv"
   ]
  },
  {
   "cell_type": "code",
   "execution_count": 116,
   "metadata": {},
   "outputs": [],
   "source": [
    "dataframe.to_csv('dataframe.csv', sep = ';', decimal = ',', index = False)"
   ]
  },
  {
   "cell_type": "markdown",
   "metadata": {},
   "source": [
    "- Lendo dados no formato csv"
   ]
  },
  {
   "cell_type": "code",
   "execution_count": 117,
   "metadata": {},
   "outputs": [],
   "source": [
    "dataframe_lido = pd.read_csv('dataframe.csv', sep = ';', decimal = ',')"
   ]
  },
  {
   "cell_type": "code",
   "execution_count": 118,
   "metadata": {},
   "outputs": [
    {
     "data": {
      "text/html": [
       "<div>\n",
       "<style scoped>\n",
       "    .dataframe tbody tr th:only-of-type {\n",
       "        vertical-align: middle;\n",
       "    }\n",
       "\n",
       "    .dataframe tbody tr th {\n",
       "        vertical-align: top;\n",
       "    }\n",
       "\n",
       "    .dataframe thead th {\n",
       "        text-align: right;\n",
       "    }\n",
       "</style>\n",
       "<table border=\"1\" class=\"dataframe\">\n",
       "  <thead>\n",
       "    <tr style=\"text-align: right;\">\n",
       "      <th></th>\n",
       "      <th>canal_venda</th>\n",
       "      <th>acessos</th>\n",
       "      <th>site</th>\n",
       "      <th>vendas</th>\n",
       "      <th>lista</th>\n",
       "      <th>categoria_vendas</th>\n",
       "      <th>categoria_acessos</th>\n",
       "    </tr>\n",
       "  </thead>\n",
       "  <tbody>\n",
       "    <tr>\n",
       "      <th>0</th>\n",
       "      <td>facebook</td>\n",
       "      <td>100</td>\n",
       "      <td>site1</td>\n",
       "      <td>1000.52</td>\n",
       "      <td>200</td>\n",
       "      <td>0 a 1500</td>\n",
       "      <td>menor_que_300</td>\n",
       "    </tr>\n",
       "    <tr>\n",
       "      <th>1</th>\n",
       "      <td>twitter</td>\n",
       "      <td>200</td>\n",
       "      <td>site1</td>\n",
       "      <td>1052.34</td>\n",
       "      <td>200</td>\n",
       "      <td>0 a 1500</td>\n",
       "      <td>menor_que_300</td>\n",
       "    </tr>\n",
       "    <tr>\n",
       "      <th>2</th>\n",
       "      <td>instagram</td>\n",
       "      <td>300</td>\n",
       "      <td>site2</td>\n",
       "      <td>2002.00</td>\n",
       "      <td>300</td>\n",
       "      <td>2000 a 8000</td>\n",
       "      <td>menor_que_300</td>\n",
       "    </tr>\n",
       "    <tr>\n",
       "      <th>3</th>\n",
       "      <td>linkedin</td>\n",
       "      <td>400</td>\n",
       "      <td>site2</td>\n",
       "      <td>5000.00</td>\n",
       "      <td>800</td>\n",
       "      <td>2000 a 8000</td>\n",
       "      <td>maior_que_300</td>\n",
       "    </tr>\n",
       "    <tr>\n",
       "      <th>4</th>\n",
       "      <td>facebook</td>\n",
       "      <td>500</td>\n",
       "      <td>site3</td>\n",
       "      <td>300.00</td>\n",
       "      <td>200</td>\n",
       "      <td>0 a 1500</td>\n",
       "      <td>maior_que_300</td>\n",
       "    </tr>\n",
       "  </tbody>\n",
       "</table>\n",
       "</div>"
      ],
      "text/plain": [
       "  canal_venda  acessos   site   vendas  lista categoria_vendas  \\\n",
       "0    facebook      100  site1  1000.52    200         0 a 1500   \n",
       "1     twitter      200  site1  1052.34    200         0 a 1500   \n",
       "2   instagram      300  site2  2002.00    300      2000 a 8000   \n",
       "3    linkedin      400  site2  5000.00    800      2000 a 8000   \n",
       "4    facebook      500  site3   300.00    200         0 a 1500   \n",
       "\n",
       "  categoria_acessos  \n",
       "0     menor_que_300  \n",
       "1     menor_que_300  \n",
       "2     menor_que_300  \n",
       "3     maior_que_300  \n",
       "4     maior_que_300  "
      ]
     },
     "execution_count": 118,
     "metadata": {},
     "output_type": "execute_result"
    }
   ],
   "source": [
    "dataframe_lido.head()"
   ]
  },
  {
   "cell_type": "markdown",
   "metadata": {},
   "source": [
    "- Lendo dados no formato json"
   ]
  },
  {
   "cell_type": "code",
   "execution_count": 119,
   "metadata": {},
   "outputs": [],
   "source": [
    "json = pd.read_json('https://pricing.us-east-1.amazonaws.com/offers/v1.0/aws/index.json')"
   ]
  },
  {
   "cell_type": "code",
   "execution_count": 120,
   "metadata": {},
   "outputs": [
    {
     "data": {
      "text/html": [
       "<div>\n",
       "<style scoped>\n",
       "    .dataframe tbody tr th:only-of-type {\n",
       "        vertical-align: middle;\n",
       "    }\n",
       "\n",
       "    .dataframe tbody tr th {\n",
       "        vertical-align: top;\n",
       "    }\n",
       "\n",
       "    .dataframe thead th {\n",
       "        text-align: right;\n",
       "    }\n",
       "</style>\n",
       "<table border=\"1\" class=\"dataframe\">\n",
       "  <thead>\n",
       "    <tr style=\"text-align: right;\">\n",
       "      <th></th>\n",
       "      <th>formatVersion</th>\n",
       "      <th>disclaimer</th>\n",
       "      <th>publicationDate</th>\n",
       "      <th>offers</th>\n",
       "    </tr>\n",
       "  </thead>\n",
       "  <tbody>\n",
       "    <tr>\n",
       "      <th>A4B</th>\n",
       "      <td>v1.0</td>\n",
       "      <td>This pricing list is for informational purpose...</td>\n",
       "      <td>2020-06-24T19:33:59Z</td>\n",
       "      <td>{'offerCode': 'A4B', 'versionIndexUrl': '/offe...</td>\n",
       "    </tr>\n",
       "    <tr>\n",
       "      <th>AWSAmplify</th>\n",
       "      <td>v1.0</td>\n",
       "      <td>This pricing list is for informational purpose...</td>\n",
       "      <td>2020-06-24T19:33:59Z</td>\n",
       "      <td>{'offerCode': 'AWSAmplify', 'versionIndexUrl':...</td>\n",
       "    </tr>\n",
       "    <tr>\n",
       "      <th>AWSAppSync</th>\n",
       "      <td>v1.0</td>\n",
       "      <td>This pricing list is for informational purpose...</td>\n",
       "      <td>2020-06-24T19:33:59Z</td>\n",
       "      <td>{'offerCode': 'AWSAppSync', 'versionIndexUrl':...</td>\n",
       "    </tr>\n",
       "    <tr>\n",
       "      <th>AWSBackup</th>\n",
       "      <td>v1.0</td>\n",
       "      <td>This pricing list is for informational purpose...</td>\n",
       "      <td>2020-06-24T19:33:59Z</td>\n",
       "      <td>{'offerCode': 'AWSBackup', 'versionIndexUrl': ...</td>\n",
       "    </tr>\n",
       "    <tr>\n",
       "      <th>AWSBudgets</th>\n",
       "      <td>v1.0</td>\n",
       "      <td>This pricing list is for informational purpose...</td>\n",
       "      <td>2020-06-24T19:33:59Z</td>\n",
       "      <td>{'offerCode': 'AWSBudgets', 'versionIndexUrl':...</td>\n",
       "    </tr>\n",
       "    <tr>\n",
       "      <th>...</th>\n",
       "      <td>...</td>\n",
       "      <td>...</td>\n",
       "      <td>...</td>\n",
       "      <td>...</td>\n",
       "    </tr>\n",
       "    <tr>\n",
       "      <th>comprehendmedical</th>\n",
       "      <td>v1.0</td>\n",
       "      <td>This pricing list is for informational purpose...</td>\n",
       "      <td>2020-06-24T19:33:59Z</td>\n",
       "      <td>{'offerCode': 'comprehendmedical', 'versionInd...</td>\n",
       "    </tr>\n",
       "    <tr>\n",
       "      <th>datapipeline</th>\n",
       "      <td>v1.0</td>\n",
       "      <td>This pricing list is for informational purpose...</td>\n",
       "      <td>2020-06-24T19:33:59Z</td>\n",
       "      <td>{'offerCode': 'datapipeline', 'versionIndexUrl...</td>\n",
       "    </tr>\n",
       "    <tr>\n",
       "      <th>mobileanalytics</th>\n",
       "      <td>v1.0</td>\n",
       "      <td>This pricing list is for informational purpose...</td>\n",
       "      <td>2020-06-24T19:33:59Z</td>\n",
       "      <td>{'offerCode': 'mobileanalytics', 'versionIndex...</td>\n",
       "    </tr>\n",
       "    <tr>\n",
       "      <th>transcribe</th>\n",
       "      <td>v1.0</td>\n",
       "      <td>This pricing list is for informational purpose...</td>\n",
       "      <td>2020-06-24T19:33:59Z</td>\n",
       "      <td>{'offerCode': 'transcribe', 'versionIndexUrl':...</td>\n",
       "    </tr>\n",
       "    <tr>\n",
       "      <th>translate</th>\n",
       "      <td>v1.0</td>\n",
       "      <td>This pricing list is for informational purpose...</td>\n",
       "      <td>2020-06-24T19:33:59Z</td>\n",
       "      <td>{'offerCode': 'translate', 'versionIndexUrl': ...</td>\n",
       "    </tr>\n",
       "  </tbody>\n",
       "</table>\n",
       "<p>154 rows × 4 columns</p>\n",
       "</div>"
      ],
      "text/plain": [
       "                  formatVersion  \\\n",
       "A4B                        v1.0   \n",
       "AWSAmplify                 v1.0   \n",
       "AWSAppSync                 v1.0   \n",
       "AWSBackup                  v1.0   \n",
       "AWSBudgets                 v1.0   \n",
       "...                         ...   \n",
       "comprehendmedical          v1.0   \n",
       "datapipeline               v1.0   \n",
       "mobileanalytics            v1.0   \n",
       "transcribe                 v1.0   \n",
       "translate                  v1.0   \n",
       "\n",
       "                                                          disclaimer  \\\n",
       "A4B                This pricing list is for informational purpose...   \n",
       "AWSAmplify         This pricing list is for informational purpose...   \n",
       "AWSAppSync         This pricing list is for informational purpose...   \n",
       "AWSBackup          This pricing list is for informational purpose...   \n",
       "AWSBudgets         This pricing list is for informational purpose...   \n",
       "...                                                              ...   \n",
       "comprehendmedical  This pricing list is for informational purpose...   \n",
       "datapipeline       This pricing list is for informational purpose...   \n",
       "mobileanalytics    This pricing list is for informational purpose...   \n",
       "transcribe         This pricing list is for informational purpose...   \n",
       "translate          This pricing list is for informational purpose...   \n",
       "\n",
       "                        publicationDate  \\\n",
       "A4B                2020-06-24T19:33:59Z   \n",
       "AWSAmplify         2020-06-24T19:33:59Z   \n",
       "AWSAppSync         2020-06-24T19:33:59Z   \n",
       "AWSBackup          2020-06-24T19:33:59Z   \n",
       "AWSBudgets         2020-06-24T19:33:59Z   \n",
       "...                                 ...   \n",
       "comprehendmedical  2020-06-24T19:33:59Z   \n",
       "datapipeline       2020-06-24T19:33:59Z   \n",
       "mobileanalytics    2020-06-24T19:33:59Z   \n",
       "transcribe         2020-06-24T19:33:59Z   \n",
       "translate          2020-06-24T19:33:59Z   \n",
       "\n",
       "                                                              offers  \n",
       "A4B                {'offerCode': 'A4B', 'versionIndexUrl': '/offe...  \n",
       "AWSAmplify         {'offerCode': 'AWSAmplify', 'versionIndexUrl':...  \n",
       "AWSAppSync         {'offerCode': 'AWSAppSync', 'versionIndexUrl':...  \n",
       "AWSBackup          {'offerCode': 'AWSBackup', 'versionIndexUrl': ...  \n",
       "AWSBudgets         {'offerCode': 'AWSBudgets', 'versionIndexUrl':...  \n",
       "...                                                              ...  \n",
       "comprehendmedical  {'offerCode': 'comprehendmedical', 'versionInd...  \n",
       "datapipeline       {'offerCode': 'datapipeline', 'versionIndexUrl...  \n",
       "mobileanalytics    {'offerCode': 'mobileanalytics', 'versionIndex...  \n",
       "transcribe         {'offerCode': 'transcribe', 'versionIndexUrl':...  \n",
       "translate          {'offerCode': 'translate', 'versionIndexUrl': ...  \n",
       "\n",
       "[154 rows x 4 columns]"
      ]
     },
     "execution_count": 120,
     "metadata": {},
     "output_type": "execute_result"
    }
   ],
   "source": [
    "json"
   ]
  },
  {
   "cell_type": "code",
   "execution_count": 121,
   "metadata": {},
   "outputs": [
    {
     "data": {
      "text/plain": [
       "{'offerCode': 'AmazonKinesisVideo',\n",
       " 'versionIndexUrl': '/offers/v1.0/aws/AmazonKinesisVideo/index.json',\n",
       " 'currentVersionUrl': '/offers/v1.0/aws/AmazonKinesisVideo/current/index.json',\n",
       " 'currentRegionIndexUrl': '/offers/v1.0/aws/AmazonKinesisVideo/current/region_index.json'}"
      ]
     },
     "execution_count": 121,
     "metadata": {},
     "output_type": "execute_result"
    }
   ],
   "source": [
    "json['offers'][99]"
   ]
  },
  {
   "cell_type": "code",
   "execution_count": 122,
   "metadata": {},
   "outputs": [],
   "source": [
    "json.reset_index(inplace = True)"
   ]
  },
  {
   "cell_type": "code",
   "execution_count": 123,
   "metadata": {},
   "outputs": [
    {
     "data": {
      "text/plain": [
       "0                    A4B\n",
       "1             AWSAmplify\n",
       "2             AWSAppSync\n",
       "3              AWSBackup\n",
       "4             AWSBudgets\n",
       "             ...        \n",
       "149    comprehendmedical\n",
       "150         datapipeline\n",
       "151      mobileanalytics\n",
       "152           transcribe\n",
       "153            translate\n",
       "Name: index, Length: 154, dtype: object"
      ]
     },
     "execution_count": 123,
     "metadata": {},
     "output_type": "execute_result"
    }
   ],
   "source": [
    "json['index']"
   ]
  }
 ],
 "metadata": {
  "kernelspec": {
   "display_name": "Python 3.7.6 64-bit ('base': conda)",
   "language": "python",
   "name": "python37664bitbaseconda6dbb2a3de9464c8784f7f2a7cf8e7045"
  },
  "language_info": {
   "codemirror_mode": {
    "name": "ipython",
    "version": 3
   },
   "file_extension": ".py",
   "mimetype": "text/x-python",
   "name": "python",
   "nbconvert_exporter": "python",
   "pygments_lexer": "ipython3",
   "version": "3.7.6"
  }
 },
 "nbformat": 4,
 "nbformat_minor": 2
}
